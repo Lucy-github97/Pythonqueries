{
 "cells": [
  {
   "cell_type": "markdown",
   "id": "b9a4ce95",
   "metadata": {},
   "source": [
    "# Content List\n",
    "\n"
   ]
  },
  {
   "cell_type": "markdown",
   "id": "5c1cf4e3",
   "metadata": {},
   "source": [
    "01 Importing Libraries and Data\n",
    "02 Data Security\n",
    "03 Creating a regional segmentation of the data\n",
    "04 Creating a dataframe excluding customers with less than 5 orders\n",
    "05 Customer Profiling\n",
    "06 Visualizations\n",
    "07 Exporting Visualizations\n",
    "08 Checking for patterns across regions and departments + Charts\n",
    "09 Exporting Visualization\n",
    "10 Exporting Dataframe\n",
    "\n"
   ]
  },
  {
   "cell_type": "markdown",
   "id": "122e0066",
   "metadata": {},
   "source": [
    "# 1 Importing Libraries and Data"
   ]
  },
  {
   "cell_type": "code",
   "execution_count": 117,
   "id": "96941692",
   "metadata": {},
   "outputs": [],
   "source": [
    "# Importing libraries\n",
    "import pandas as pd\n",
    "import numpy as np\n",
    "import os\n",
    "import matplotlib.pyplot as plt\n",
    "import seaborn as sns\n",
    "import scipy"
   ]
  },
  {
   "cell_type": "code",
   "execution_count": 118,
   "id": "0f3c7808",
   "metadata": {},
   "outputs": [],
   "source": [
    "path = r'/Users/a/Career Foundry/Achievement 4/02 Data/02 Prepared Data'"
   ]
  },
  {
   "cell_type": "code",
   "execution_count": 136,
   "id": "3aec0ec4",
   "metadata": {
    "scrolled": true
   },
   "outputs": [
    {
     "data": {
      "text/plain": [
       "'/Users/a/Career Foundry/Achievement 4/02 Data/02 Prepared Data'"
      ]
     },
     "execution_count": 136,
     "metadata": {},
     "output_type": "execute_result"
    }
   ],
   "source": [
    "path"
   ]
  },
  {
   "cell_type": "code",
   "execution_count": 137,
   "id": "ce69e069",
   "metadata": {},
   "outputs": [],
   "source": [
    "df= pd.read_pickle(os.path.join(path, 'Achievement 10.pkl')) \n",
    "\n"
   ]
  },
  {
   "cell_type": "code",
   "execution_count": 138,
   "id": "6a10e938",
   "metadata": {},
   "outputs": [
    {
     "data": {
      "text/html": [
       "<div>\n",
       "<style scoped>\n",
       "    .dataframe tbody tr th:only-of-type {\n",
       "        vertical-align: middle;\n",
       "    }\n",
       "\n",
       "    .dataframe tbody tr th {\n",
       "        vertical-align: top;\n",
       "    }\n",
       "\n",
       "    .dataframe thead th {\n",
       "        text-align: right;\n",
       "    }\n",
       "</style>\n",
       "<table border=\"1\" class=\"dataframe\">\n",
       "  <thead>\n",
       "    <tr style=\"text-align: right;\">\n",
       "      <th></th>\n",
       "      <th>user_id</th>\n",
       "      <th>First Name</th>\n",
       "      <th>surname</th>\n",
       "      <th>Gender</th>\n",
       "      <th>state</th>\n",
       "      <th>Age</th>\n",
       "      <th>n_dependants</th>\n",
       "      <th>family_status</th>\n",
       "      <th>income</th>\n",
       "      <th>order_id</th>\n",
       "      <th>...</th>\n",
       "      <th>price_range_loc</th>\n",
       "      <th>busiest_day</th>\n",
       "      <th>busiest_days</th>\n",
       "      <th>busiest_period_of_day</th>\n",
       "      <th>max_order</th>\n",
       "      <th>loyalty_flag</th>\n",
       "      <th>spendings</th>\n",
       "      <th>spending_flag</th>\n",
       "      <th>order frequency</th>\n",
       "      <th>order_frequency_flag</th>\n",
       "    </tr>\n",
       "  </thead>\n",
       "  <tbody>\n",
       "    <tr>\n",
       "      <th>0</th>\n",
       "      <td>26711</td>\n",
       "      <td>Deborah</td>\n",
       "      <td>Esquivel</td>\n",
       "      <td>Female</td>\n",
       "      <td>Missouri</td>\n",
       "      <td>48</td>\n",
       "      <td>3</td>\n",
       "      <td>married</td>\n",
       "      <td>165665</td>\n",
       "      <td>2543867</td>\n",
       "      <td>...</td>\n",
       "      <td>Mid-range product</td>\n",
       "      <td>regularly busy</td>\n",
       "      <td>Regularly busy</td>\n",
       "      <td>Fewest orders</td>\n",
       "      <td>8.0</td>\n",
       "      <td>New customer</td>\n",
       "      <td>12.6</td>\n",
       "      <td>High spender</td>\n",
       "      <td>30.0</td>\n",
       "      <td>Regular customer</td>\n",
       "    </tr>\n",
       "    <tr>\n",
       "      <th>1</th>\n",
       "      <td>26711</td>\n",
       "      <td>Deborah</td>\n",
       "      <td>Esquivel</td>\n",
       "      <td>Female</td>\n",
       "      <td>Missouri</td>\n",
       "      <td>48</td>\n",
       "      <td>3</td>\n",
       "      <td>married</td>\n",
       "      <td>165665</td>\n",
       "      <td>1285508</td>\n",
       "      <td>...</td>\n",
       "      <td>Mid-range product</td>\n",
       "      <td>regularly busy</td>\n",
       "      <td>Regularly busy</td>\n",
       "      <td>Fewest orders</td>\n",
       "      <td>8.0</td>\n",
       "      <td>New customer</td>\n",
       "      <td>12.6</td>\n",
       "      <td>High spender</td>\n",
       "      <td>30.0</td>\n",
       "      <td>Regular customer</td>\n",
       "    </tr>\n",
       "    <tr>\n",
       "      <th>2</th>\n",
       "      <td>26711</td>\n",
       "      <td>Deborah</td>\n",
       "      <td>Esquivel</td>\n",
       "      <td>Female</td>\n",
       "      <td>Missouri</td>\n",
       "      <td>48</td>\n",
       "      <td>3</td>\n",
       "      <td>married</td>\n",
       "      <td>165665</td>\n",
       "      <td>2578584</td>\n",
       "      <td>...</td>\n",
       "      <td>Mid-range product</td>\n",
       "      <td>regularly busy</td>\n",
       "      <td>Regularly busy</td>\n",
       "      <td>Fewest orders</td>\n",
       "      <td>8.0</td>\n",
       "      <td>New customer</td>\n",
       "      <td>12.6</td>\n",
       "      <td>High spender</td>\n",
       "      <td>30.0</td>\n",
       "      <td>Regular customer</td>\n",
       "    </tr>\n",
       "    <tr>\n",
       "      <th>3</th>\n",
       "      <td>26711</td>\n",
       "      <td>Deborah</td>\n",
       "      <td>Esquivel</td>\n",
       "      <td>Female</td>\n",
       "      <td>Missouri</td>\n",
       "      <td>48</td>\n",
       "      <td>3</td>\n",
       "      <td>married</td>\n",
       "      <td>165665</td>\n",
       "      <td>423547</td>\n",
       "      <td>...</td>\n",
       "      <td>Mid-range product</td>\n",
       "      <td>regularly busy</td>\n",
       "      <td>Regularly busy</td>\n",
       "      <td>Fewest orders</td>\n",
       "      <td>8.0</td>\n",
       "      <td>New customer</td>\n",
       "      <td>12.6</td>\n",
       "      <td>High spender</td>\n",
       "      <td>30.0</td>\n",
       "      <td>Regular customer</td>\n",
       "    </tr>\n",
       "    <tr>\n",
       "      <th>4</th>\n",
       "      <td>26711</td>\n",
       "      <td>Deborah</td>\n",
       "      <td>Esquivel</td>\n",
       "      <td>Female</td>\n",
       "      <td>Missouri</td>\n",
       "      <td>48</td>\n",
       "      <td>3</td>\n",
       "      <td>married</td>\n",
       "      <td>165665</td>\n",
       "      <td>2524893</td>\n",
       "      <td>...</td>\n",
       "      <td>Mid-range product</td>\n",
       "      <td>regularly busy</td>\n",
       "      <td>Regularly busy</td>\n",
       "      <td>Fewest orders</td>\n",
       "      <td>8.0</td>\n",
       "      <td>New customer</td>\n",
       "      <td>12.6</td>\n",
       "      <td>High spender</td>\n",
       "      <td>30.0</td>\n",
       "      <td>Regular customer</td>\n",
       "    </tr>\n",
       "    <tr>\n",
       "      <th>...</th>\n",
       "      <td>...</td>\n",
       "      <td>...</td>\n",
       "      <td>...</td>\n",
       "      <td>...</td>\n",
       "      <td>...</td>\n",
       "      <td>...</td>\n",
       "      <td>...</td>\n",
       "      <td>...</td>\n",
       "      <td>...</td>\n",
       "      <td>...</td>\n",
       "      <td>...</td>\n",
       "      <td>...</td>\n",
       "      <td>...</td>\n",
       "      <td>...</td>\n",
       "      <td>...</td>\n",
       "      <td>...</td>\n",
       "      <td>...</td>\n",
       "      <td>...</td>\n",
       "      <td>...</td>\n",
       "      <td>...</td>\n",
       "      <td>...</td>\n",
       "    </tr>\n",
       "    <tr>\n",
       "      <th>1534190</th>\n",
       "      <td>167749</td>\n",
       "      <td>Deborah</td>\n",
       "      <td>Farrell</td>\n",
       "      <td>Female</td>\n",
       "      <td>Florida</td>\n",
       "      <td>28</td>\n",
       "      <td>1</td>\n",
       "      <td>married</td>\n",
       "      <td>30169</td>\n",
       "      <td>2176275</td>\n",
       "      <td>...</td>\n",
       "      <td>Mid-range product</td>\n",
       "      <td>busiest day</td>\n",
       "      <td>Busiest days</td>\n",
       "      <td>Fewest orders</td>\n",
       "      <td>5.0</td>\n",
       "      <td>New customer</td>\n",
       "      <td>12.3</td>\n",
       "      <td>High spender</td>\n",
       "      <td>16.0</td>\n",
       "      <td>Regular customer</td>\n",
       "    </tr>\n",
       "    <tr>\n",
       "      <th>1534191</th>\n",
       "      <td>186595</td>\n",
       "      <td>Ruth</td>\n",
       "      <td>Cunningham</td>\n",
       "      <td>Female</td>\n",
       "      <td>Mississippi</td>\n",
       "      <td>38</td>\n",
       "      <td>1</td>\n",
       "      <td>married</td>\n",
       "      <td>92727</td>\n",
       "      <td>1816266</td>\n",
       "      <td>...</td>\n",
       "      <td>Mid-range product</td>\n",
       "      <td>regularly busy</td>\n",
       "      <td>Regularly busy</td>\n",
       "      <td>Fewest orders</td>\n",
       "      <td>6.0</td>\n",
       "      <td>New customer</td>\n",
       "      <td>12.3</td>\n",
       "      <td>High spender</td>\n",
       "      <td>30.0</td>\n",
       "      <td>Regular customer</td>\n",
       "    </tr>\n",
       "    <tr>\n",
       "      <th>1534192</th>\n",
       "      <td>186595</td>\n",
       "      <td>Ruth</td>\n",
       "      <td>Cunningham</td>\n",
       "      <td>Female</td>\n",
       "      <td>Mississippi</td>\n",
       "      <td>38</td>\n",
       "      <td>1</td>\n",
       "      <td>married</td>\n",
       "      <td>92727</td>\n",
       "      <td>908811</td>\n",
       "      <td>...</td>\n",
       "      <td>Mid-range product</td>\n",
       "      <td>busiest day</td>\n",
       "      <td>Busiest days</td>\n",
       "      <td>Fewest orders</td>\n",
       "      <td>6.0</td>\n",
       "      <td>New customer</td>\n",
       "      <td>12.3</td>\n",
       "      <td>High spender</td>\n",
       "      <td>30.0</td>\n",
       "      <td>Regular customer</td>\n",
       "    </tr>\n",
       "    <tr>\n",
       "      <th>1534193</th>\n",
       "      <td>186595</td>\n",
       "      <td>Ruth</td>\n",
       "      <td>Cunningham</td>\n",
       "      <td>Female</td>\n",
       "      <td>Mississippi</td>\n",
       "      <td>38</td>\n",
       "      <td>1</td>\n",
       "      <td>married</td>\n",
       "      <td>92727</td>\n",
       "      <td>93226</td>\n",
       "      <td>...</td>\n",
       "      <td>Mid-range product</td>\n",
       "      <td>regularly busy</td>\n",
       "      <td>Regularly busy</td>\n",
       "      <td>Fewest orders</td>\n",
       "      <td>6.0</td>\n",
       "      <td>New customer</td>\n",
       "      <td>12.3</td>\n",
       "      <td>High spender</td>\n",
       "      <td>30.0</td>\n",
       "      <td>Regular customer</td>\n",
       "    </tr>\n",
       "    <tr>\n",
       "      <th>1534194</th>\n",
       "      <td>199732</td>\n",
       "      <td>Katherine</td>\n",
       "      <td>Abbott</td>\n",
       "      <td>Female</td>\n",
       "      <td>Iowa</td>\n",
       "      <td>71</td>\n",
       "      <td>1</td>\n",
       "      <td>married</td>\n",
       "      <td>31019</td>\n",
       "      <td>2814160</td>\n",
       "      <td>...</td>\n",
       "      <td>Mid-range product</td>\n",
       "      <td>regularly busy</td>\n",
       "      <td>Regularly busy</td>\n",
       "      <td>Fewest orders</td>\n",
       "      <td>3.0</td>\n",
       "      <td>New customer</td>\n",
       "      <td>12.3</td>\n",
       "      <td>High spender</td>\n",
       "      <td>6.0</td>\n",
       "      <td>Frequent customer</td>\n",
       "    </tr>\n",
       "  </tbody>\n",
       "</table>\n",
       "<p>1534195 rows × 32 columns</p>\n",
       "</div>"
      ],
      "text/plain": [
       "         user_id First Name     surname  Gender        state  Age  \\\n",
       "0          26711    Deborah    Esquivel  Female     Missouri   48   \n",
       "1          26711    Deborah    Esquivel  Female     Missouri   48   \n",
       "2          26711    Deborah    Esquivel  Female     Missouri   48   \n",
       "3          26711    Deborah    Esquivel  Female     Missouri   48   \n",
       "4          26711    Deborah    Esquivel  Female     Missouri   48   \n",
       "...          ...        ...         ...     ...          ...  ...   \n",
       "1534190   167749    Deborah     Farrell  Female      Florida   28   \n",
       "1534191   186595       Ruth  Cunningham  Female  Mississippi   38   \n",
       "1534192   186595       Ruth  Cunningham  Female  Mississippi   38   \n",
       "1534193   186595       Ruth  Cunningham  Female  Mississippi   38   \n",
       "1534194   199732  Katherine      Abbott  Female         Iowa   71   \n",
       "\n",
       "         n_dependants family_status  income  order_id  ...    price_range_loc  \\\n",
       "0                   3       married  165665   2543867  ...  Mid-range product   \n",
       "1                   3       married  165665   1285508  ...  Mid-range product   \n",
       "2                   3       married  165665   2578584  ...  Mid-range product   \n",
       "3                   3       married  165665    423547  ...  Mid-range product   \n",
       "4                   3       married  165665   2524893  ...  Mid-range product   \n",
       "...               ...           ...     ...       ...  ...                ...   \n",
       "1534190             1       married   30169   2176275  ...  Mid-range product   \n",
       "1534191             1       married   92727   1816266  ...  Mid-range product   \n",
       "1534192             1       married   92727    908811  ...  Mid-range product   \n",
       "1534193             1       married   92727     93226  ...  Mid-range product   \n",
       "1534194             1       married   31019   2814160  ...  Mid-range product   \n",
       "\n",
       "            busiest_day    busiest_days  busiest_period_of_day  max_order  \\\n",
       "0        regularly busy  Regularly busy          Fewest orders        8.0   \n",
       "1        regularly busy  Regularly busy          Fewest orders        8.0   \n",
       "2        regularly busy  Regularly busy          Fewest orders        8.0   \n",
       "3        regularly busy  Regularly busy          Fewest orders        8.0   \n",
       "4        regularly busy  Regularly busy          Fewest orders        8.0   \n",
       "...                 ...             ...                    ...        ...   \n",
       "1534190     busiest day    Busiest days          Fewest orders        5.0   \n",
       "1534191  regularly busy  Regularly busy          Fewest orders        6.0   \n",
       "1534192     busiest day    Busiest days          Fewest orders        6.0   \n",
       "1534193  regularly busy  Regularly busy          Fewest orders        6.0   \n",
       "1534194  regularly busy  Regularly busy          Fewest orders        3.0   \n",
       "\n",
       "         loyalty_flag  spendings spending_flag order frequency  \\\n",
       "0        New customer       12.6  High spender            30.0   \n",
       "1        New customer       12.6  High spender            30.0   \n",
       "2        New customer       12.6  High spender            30.0   \n",
       "3        New customer       12.6  High spender            30.0   \n",
       "4        New customer       12.6  High spender            30.0   \n",
       "...               ...        ...           ...             ...   \n",
       "1534190  New customer       12.3  High spender            16.0   \n",
       "1534191  New customer       12.3  High spender            30.0   \n",
       "1534192  New customer       12.3  High spender            30.0   \n",
       "1534193  New customer       12.3  High spender            30.0   \n",
       "1534194  New customer       12.3  High spender             6.0   \n",
       "\n",
       "         order_frequency_flag  \n",
       "0            Regular customer  \n",
       "1            Regular customer  \n",
       "2            Regular customer  \n",
       "3            Regular customer  \n",
       "4            Regular customer  \n",
       "...                       ...  \n",
       "1534190      Regular customer  \n",
       "1534191      Regular customer  \n",
       "1534192      Regular customer  \n",
       "1534193      Regular customer  \n",
       "1534194     Frequent customer  \n",
       "\n",
       "[1534195 rows x 32 columns]"
      ]
     },
     "execution_count": 138,
     "metadata": {},
     "output_type": "execute_result"
    }
   ],
   "source": [
    "df"
   ]
  },
  {
   "cell_type": "code",
   "execution_count": 139,
   "id": "0792ea84",
   "metadata": {
    "scrolled": false
   },
   "outputs": [
    {
     "data": {
      "text/plain": [
       "Index(['user_id', 'First Name', 'surname', 'Gender', 'state', 'Age',\n",
       "       'n_dependants', 'family_status', 'income', 'order_id', 'order_number',\n",
       "       'orders_day_of_week', 'time_orders', 'days_since_prior_order',\n",
       "       'product_id', 'add_to_cart_order', 'reordered', '_merge',\n",
       "       'product_name', 'aisle_id', 'department_id', 'prices',\n",
       "       'price_range_loc', 'busiest_day', 'busiest_days',\n",
       "       'busiest_period_of_day', 'max_order', 'loyalty_flag', 'spendings',\n",
       "       'spending_flag', 'order frequency', 'order_frequency_flag'],\n",
       "      dtype='object')"
      ]
     },
     "execution_count": 139,
     "metadata": {},
     "output_type": "execute_result"
    }
   ],
   "source": [
    "df.columns"
   ]
  },
  {
   "cell_type": "markdown",
   "id": "32e888f9",
   "metadata": {},
   "source": [
    "# 2 Data Security"
   ]
  },
  {
   "cell_type": "markdown",
   "id": "c459e578",
   "metadata": {},
   "source": [
    "The dataframe containes sensitive PII data such as First Name, Surname, Age that need to be stored and used carefully according to data security regulations"
   ]
  },
  {
   "cell_type": "markdown",
   "id": "27a283ca",
   "metadata": {},
   "source": [
    "# 3 Creating a regional segmentation of the data"
   ]
  },
  {
   "cell_type": "code",
   "execution_count": 140,
   "id": "529aee31",
   "metadata": {},
   "outputs": [],
   "source": [
    "region = []\n",
    "for state in df['state']:\n",
    "    if (state == 'Wisconsin') or (state == 'Michigan') or (state == 'Illinois') or (state == 'Indiana') or (state == 'Ohio') or (state == 'North Dakota') or (state == 'South Dakota') or (state == 'Nebraska') or (state == 'Minnesota') or (state == 'Iowa') or (state == 'Missouri') or (state == 'Kansas'):\n",
    "        region.append('Midwest')\n",
    "    elif (state == 'Maine') or (state == 'New Hampshire') or (state == 'Vermont') or (state == 'Massachusetts') or (state == 'Rhode Island') or (state == 'Connecticut') or (state == 'New York') or (state == 'Pennsylvania') or (state =='New Jersey'):\n",
    "        region.append('Northeast')\n",
    "    elif (state == 'Deleware') or (state == 'Maryland') or (state == 'District of Columbia') or (state == 'Virginia') or (state == 'West Virginia') or (state == 'North Carolina') or (state == 'South Carolina') or (state == 'Georgia') or (state == 'Florida') or (state == 'Kentucky') or (state == 'Tennessee') or (state == 'Mississippi') or (state == 'Alabama') or (state == 'Oklahoma') or (state == 'Texas') or (state == 'Arkansas') or (state == 'Louisiana'):\n",
    "        region.append('South')\n",
    "    else:\n",
    "        region.append('West')\n"
   ]
  },
  {
   "cell_type": "code",
   "execution_count": 141,
   "id": "6357eb85",
   "metadata": {},
   "outputs": [
    {
     "data": {
      "text/plain": [
       "['Midwest',\n",
       " 'Midwest',\n",
       " 'Midwest',\n",
       " 'Midwest',\n",
       " 'Midwest',\n",
       " 'Midwest',\n",
       " 'Midwest',\n",
       " 'Midwest',\n",
       " 'Midwest',\n",
       " 'West',\n",
       " 'West',\n",
       " 'West',\n",
       " 'West',\n",
       " 'West',\n",
       " 'West',\n",
       " 'West',\n",
       " 'West',\n",
       " 'West',\n",
       " 'West',\n",
       " 'Midwest',\n",
       " 'Midwest',\n",
       " 'Midwest',\n",
       " 'Midwest',\n",
       " 'Midwest',\n",
       " 'Midwest',\n",
       " 'Midwest',\n",
       " 'Midwest',\n",
       " 'Midwest',\n",
       " 'Midwest',\n",
       " 'Midwest',\n",
       " 'Midwest',\n",
       " 'Midwest',\n",
       " 'Midwest',\n",
       " 'Midwest',\n",
       " 'Midwest',\n",
       " 'Midwest',\n",
       " 'Midwest',\n",
       " 'Midwest',\n",
       " 'Midwest',\n",
       " 'Midwest',\n",
       " 'Midwest',\n",
       " 'Midwest',\n",
       " 'Midwest',\n",
       " 'Midwest',\n",
       " 'Midwest',\n",
       " 'Midwest',\n",
       " 'Midwest',\n",
       " 'Midwest',\n",
       " 'South',\n",
       " 'South',\n",
       " 'South',\n",
       " 'South',\n",
       " 'South',\n",
       " 'West',\n",
       " 'West',\n",
       " 'West',\n",
       " 'West',\n",
       " 'West',\n",
       " 'West',\n",
       " 'West',\n",
       " 'West',\n",
       " 'West',\n",
       " 'West',\n",
       " 'West',\n",
       " 'West',\n",
       " 'South',\n",
       " 'South',\n",
       " 'South',\n",
       " 'South',\n",
       " 'West',\n",
       " 'West',\n",
       " 'West',\n",
       " 'West',\n",
       " 'West',\n",
       " 'West',\n",
       " 'West',\n",
       " 'Midwest',\n",
       " 'Midwest',\n",
       " 'Midwest',\n",
       " 'Midwest',\n",
       " 'Midwest',\n",
       " 'Midwest',\n",
       " 'Midwest',\n",
       " 'Midwest',\n",
       " 'Midwest',\n",
       " 'Midwest',\n",
       " 'Midwest',\n",
       " 'Midwest',\n",
       " 'Midwest',\n",
       " 'Midwest',\n",
       " 'Midwest',\n",
       " 'Midwest',\n",
       " 'South',\n",
       " 'South',\n",
       " 'South',\n",
       " 'South',\n",
       " 'South',\n",
       " 'South',\n",
       " 'South',\n",
       " 'South',\n",
       " 'South',\n",
       " 'South',\n",
       " 'South',\n",
       " 'South',\n",
       " 'South',\n",
       " 'South',\n",
       " 'South',\n",
       " 'South',\n",
       " 'South',\n",
       " 'South',\n",
       " 'South',\n",
       " 'South',\n",
       " 'South',\n",
       " 'South',\n",
       " 'South',\n",
       " 'South',\n",
       " 'South',\n",
       " 'South',\n",
       " 'South',\n",
       " 'South',\n",
       " 'South',\n",
       " 'South',\n",
       " 'South',\n",
       " 'South',\n",
       " 'South',\n",
       " 'South',\n",
       " 'West',\n",
       " 'West',\n",
       " 'West',\n",
       " 'West',\n",
       " 'West',\n",
       " 'West',\n",
       " 'West',\n",
       " 'West',\n",
       " 'West',\n",
       " 'West',\n",
       " 'West',\n",
       " 'West',\n",
       " 'West',\n",
       " 'West',\n",
       " 'West',\n",
       " 'West',\n",
       " 'West',\n",
       " 'West',\n",
       " 'West',\n",
       " 'West',\n",
       " 'West',\n",
       " 'West',\n",
       " 'West',\n",
       " 'West',\n",
       " 'West',\n",
       " 'Midwest',\n",
       " 'Midwest',\n",
       " 'Midwest',\n",
       " 'Midwest',\n",
       " 'Midwest',\n",
       " 'Midwest',\n",
       " 'Midwest',\n",
       " 'Midwest',\n",
       " 'Midwest',\n",
       " 'Midwest',\n",
       " 'Midwest',\n",
       " 'Midwest',\n",
       " 'Midwest',\n",
       " 'Midwest',\n",
       " 'West',\n",
       " 'Northeast',\n",
       " 'Midwest',\n",
       " 'Midwest',\n",
       " 'South',\n",
       " 'South',\n",
       " 'South',\n",
       " 'South',\n",
       " 'South',\n",
       " 'South',\n",
       " 'South',\n",
       " 'South',\n",
       " 'South',\n",
       " 'South',\n",
       " 'South',\n",
       " 'South',\n",
       " 'Northeast',\n",
       " 'Northeast',\n",
       " 'Northeast',\n",
       " 'Northeast',\n",
       " 'Northeast',\n",
       " 'Northeast',\n",
       " 'Northeast',\n",
       " 'Northeast',\n",
       " 'Northeast',\n",
       " 'Northeast',\n",
       " 'South',\n",
       " 'South',\n",
       " 'South',\n",
       " 'South',\n",
       " 'West',\n",
       " 'West',\n",
       " 'West',\n",
       " 'West',\n",
       " 'West',\n",
       " 'West',\n",
       " 'West',\n",
       " 'West',\n",
       " 'West',\n",
       " 'West',\n",
       " 'West',\n",
       " 'West',\n",
       " 'West',\n",
       " 'West',\n",
       " 'West',\n",
       " 'West',\n",
       " 'South',\n",
       " 'South',\n",
       " 'South',\n",
       " 'South',\n",
       " 'South',\n",
       " 'South',\n",
       " 'South',\n",
       " 'South',\n",
       " 'South',\n",
       " 'South',\n",
       " 'South',\n",
       " 'South',\n",
       " 'South',\n",
       " 'South',\n",
       " 'South',\n",
       " 'South',\n",
       " 'South',\n",
       " 'South',\n",
       " 'South',\n",
       " 'South',\n",
       " 'South',\n",
       " 'South',\n",
       " 'South',\n",
       " 'South',\n",
       " 'South',\n",
       " 'South',\n",
       " 'South',\n",
       " 'South',\n",
       " 'South',\n",
       " 'Midwest',\n",
       " 'Midwest',\n",
       " 'West',\n",
       " 'West',\n",
       " 'West',\n",
       " 'West',\n",
       " 'West',\n",
       " 'West',\n",
       " 'West',\n",
       " 'West',\n",
       " 'West',\n",
       " 'South',\n",
       " 'South',\n",
       " 'South',\n",
       " 'South',\n",
       " 'South',\n",
       " 'South',\n",
       " 'South',\n",
       " 'South',\n",
       " 'South',\n",
       " 'South',\n",
       " 'South',\n",
       " 'South',\n",
       " 'South',\n",
       " 'South',\n",
       " 'South',\n",
       " 'South',\n",
       " 'South',\n",
       " 'South',\n",
       " 'South',\n",
       " 'South',\n",
       " 'South',\n",
       " 'South',\n",
       " 'South',\n",
       " 'West',\n",
       " 'West',\n",
       " 'West',\n",
       " 'West',\n",
       " 'West',\n",
       " 'Northeast',\n",
       " 'Northeast',\n",
       " 'Northeast',\n",
       " 'Northeast',\n",
       " 'Northeast',\n",
       " 'Northeast',\n",
       " 'Northeast',\n",
       " 'Northeast',\n",
       " 'Northeast',\n",
       " 'Northeast',\n",
       " 'Northeast',\n",
       " 'Northeast',\n",
       " 'West',\n",
       " 'West',\n",
       " 'West',\n",
       " 'West',\n",
       " 'West',\n",
       " 'West',\n",
       " 'West',\n",
       " 'West',\n",
       " 'Midwest',\n",
       " 'Midwest',\n",
       " 'Midwest',\n",
       " 'Midwest',\n",
       " 'Midwest',\n",
       " 'Northeast',\n",
       " 'Northeast',\n",
       " 'West',\n",
       " 'West',\n",
       " 'West',\n",
       " 'West',\n",
       " 'West',\n",
       " 'West',\n",
       " 'West',\n",
       " 'West',\n",
       " 'West',\n",
       " 'South',\n",
       " 'South',\n",
       " 'South',\n",
       " 'South',\n",
       " 'South',\n",
       " 'South',\n",
       " 'South',\n",
       " 'South',\n",
       " 'South',\n",
       " 'South',\n",
       " 'South',\n",
       " 'South',\n",
       " 'Midwest',\n",
       " 'Midwest',\n",
       " 'West',\n",
       " 'West',\n",
       " 'West',\n",
       " 'Midwest',\n",
       " 'Midwest',\n",
       " 'Midwest',\n",
       " 'Northeast',\n",
       " 'Northeast',\n",
       " 'Northeast',\n",
       " 'Northeast',\n",
       " 'West',\n",
       " 'West',\n",
       " 'West',\n",
       " 'Northeast',\n",
       " 'Northeast',\n",
       " 'West',\n",
       " 'West',\n",
       " 'Midwest',\n",
       " 'Midwest',\n",
       " 'Midwest',\n",
       " 'Midwest',\n",
       " 'Midwest',\n",
       " 'Midwest',\n",
       " 'Midwest',\n",
       " 'Midwest',\n",
       " 'Midwest',\n",
       " 'Midwest',\n",
       " 'Midwest',\n",
       " 'Midwest',\n",
       " 'Midwest',\n",
       " 'Midwest',\n",
       " 'Midwest',\n",
       " 'Midwest',\n",
       " 'Midwest',\n",
       " 'Midwest',\n",
       " 'Midwest',\n",
       " 'Midwest',\n",
       " 'Midwest',\n",
       " 'Midwest',\n",
       " 'Midwest',\n",
       " 'Midwest',\n",
       " 'Midwest',\n",
       " 'Midwest',\n",
       " 'Midwest',\n",
       " 'Midwest',\n",
       " 'Midwest',\n",
       " 'Midwest',\n",
       " 'Midwest',\n",
       " 'Midwest',\n",
       " 'Midwest',\n",
       " 'Midwest',\n",
       " 'Midwest',\n",
       " 'Midwest',\n",
       " 'Midwest',\n",
       " 'Midwest',\n",
       " 'Midwest',\n",
       " 'Midwest',\n",
       " 'Midwest',\n",
       " 'Midwest',\n",
       " 'Midwest',\n",
       " 'Midwest',\n",
       " 'Midwest',\n",
       " 'Midwest',\n",
       " 'Midwest',\n",
       " 'Midwest',\n",
       " 'Midwest',\n",
       " 'Midwest',\n",
       " 'Midwest',\n",
       " 'Midwest',\n",
       " 'Midwest',\n",
       " 'Midwest',\n",
       " 'Midwest',\n",
       " 'Midwest',\n",
       " 'Midwest',\n",
       " 'Midwest',\n",
       " 'Midwest',\n",
       " 'Midwest',\n",
       " 'Midwest',\n",
       " 'Midwest',\n",
       " 'Midwest',\n",
       " 'Midwest',\n",
       " 'Midwest',\n",
       " 'Midwest',\n",
       " 'Midwest',\n",
       " 'Midwest',\n",
       " 'Midwest',\n",
       " 'Midwest',\n",
       " 'Midwest',\n",
       " 'Midwest',\n",
       " 'Midwest',\n",
       " 'Midwest',\n",
       " 'Midwest',\n",
       " 'Midwest',\n",
       " 'Midwest',\n",
       " 'Midwest',\n",
       " 'Midwest',\n",
       " 'Midwest',\n",
       " 'Midwest',\n",
       " 'Midwest',\n",
       " 'Midwest',\n",
       " 'Midwest',\n",
       " 'Midwest',\n",
       " 'Midwest',\n",
       " 'Midwest',\n",
       " 'Midwest',\n",
       " 'Midwest',\n",
       " 'Midwest',\n",
       " 'Midwest',\n",
       " 'Midwest',\n",
       " 'Midwest',\n",
       " 'Midwest',\n",
       " 'South',\n",
       " 'South',\n",
       " 'South',\n",
       " 'South',\n",
       " 'South',\n",
       " 'South',\n",
       " 'South',\n",
       " 'South',\n",
       " 'South',\n",
       " 'South',\n",
       " 'South',\n",
       " 'South',\n",
       " 'Midwest',\n",
       " 'West',\n",
       " 'West',\n",
       " 'West',\n",
       " 'West',\n",
       " 'West',\n",
       " 'West',\n",
       " 'West',\n",
       " 'West',\n",
       " 'West',\n",
       " 'West',\n",
       " 'West',\n",
       " 'West',\n",
       " 'West',\n",
       " 'West',\n",
       " 'West',\n",
       " 'West',\n",
       " 'West',\n",
       " 'West',\n",
       " 'West',\n",
       " 'West',\n",
       " 'West',\n",
       " 'West',\n",
       " 'West',\n",
       " 'West',\n",
       " 'West',\n",
       " 'West',\n",
       " 'West',\n",
       " 'West',\n",
       " 'West',\n",
       " 'West',\n",
       " 'West',\n",
       " 'South',\n",
       " 'South',\n",
       " 'South',\n",
       " 'South',\n",
       " 'South',\n",
       " 'South',\n",
       " 'South',\n",
       " 'South',\n",
       " 'West',\n",
       " 'West',\n",
       " 'West',\n",
       " 'West',\n",
       " 'West',\n",
       " 'Midwest',\n",
       " 'Midwest',\n",
       " 'South',\n",
       " 'South',\n",
       " 'South',\n",
       " 'South',\n",
       " 'South',\n",
       " 'South',\n",
       " 'South',\n",
       " 'South',\n",
       " 'South',\n",
       " 'South',\n",
       " 'South',\n",
       " 'South',\n",
       " 'South',\n",
       " 'South',\n",
       " 'South',\n",
       " 'South',\n",
       " 'South',\n",
       " 'South',\n",
       " 'South',\n",
       " 'South',\n",
       " 'South',\n",
       " 'South',\n",
       " 'South',\n",
       " 'Midwest',\n",
       " 'Midwest',\n",
       " 'Midwest',\n",
       " 'Midwest',\n",
       " 'Midwest',\n",
       " 'Midwest',\n",
       " 'West',\n",
       " 'West',\n",
       " 'West',\n",
       " 'West',\n",
       " 'South',\n",
       " 'South',\n",
       " 'South',\n",
       " 'South',\n",
       " 'South',\n",
       " 'South',\n",
       " 'West',\n",
       " 'West',\n",
       " 'West',\n",
       " 'West',\n",
       " 'West',\n",
       " 'West',\n",
       " 'West',\n",
       " 'West',\n",
       " 'West',\n",
       " 'West',\n",
       " 'West',\n",
       " 'West',\n",
       " 'West',\n",
       " 'West',\n",
       " 'Midwest',\n",
       " 'Midwest',\n",
       " 'Midwest',\n",
       " 'Midwest',\n",
       " 'Midwest',\n",
       " 'Midwest',\n",
       " 'West',\n",
       " 'West',\n",
       " 'West',\n",
       " 'West',\n",
       " 'West',\n",
       " 'West',\n",
       " 'West',\n",
       " 'West',\n",
       " 'West',\n",
       " 'West',\n",
       " 'West',\n",
       " 'West',\n",
       " 'West',\n",
       " 'West',\n",
       " 'West',\n",
       " 'West',\n",
       " 'West',\n",
       " 'West',\n",
       " 'West',\n",
       " 'West',\n",
       " 'West',\n",
       " 'West',\n",
       " 'West',\n",
       " 'West',\n",
       " 'West',\n",
       " 'West',\n",
       " 'West',\n",
       " 'West',\n",
       " 'West',\n",
       " 'West',\n",
       " 'West',\n",
       " 'West',\n",
       " 'West',\n",
       " 'West',\n",
       " 'West',\n",
       " 'West',\n",
       " 'West',\n",
       " 'West',\n",
       " 'West',\n",
       " 'West',\n",
       " 'West',\n",
       " 'West',\n",
       " 'West',\n",
       " 'West',\n",
       " 'West',\n",
       " 'West',\n",
       " 'West',\n",
       " 'West',\n",
       " 'West',\n",
       " 'West',\n",
       " 'West',\n",
       " 'West',\n",
       " 'West',\n",
       " 'West',\n",
       " 'West',\n",
       " 'Northeast',\n",
       " 'West',\n",
       " 'West',\n",
       " 'West',\n",
       " 'West',\n",
       " 'South',\n",
       " 'South',\n",
       " 'South',\n",
       " 'South',\n",
       " 'South',\n",
       " 'Northeast',\n",
       " 'Northeast',\n",
       " 'Northeast',\n",
       " 'South',\n",
       " 'South',\n",
       " 'South',\n",
       " 'South',\n",
       " 'South',\n",
       " 'South',\n",
       " 'Northeast',\n",
       " 'Northeast',\n",
       " 'Northeast',\n",
       " 'Northeast',\n",
       " 'West',\n",
       " 'West',\n",
       " 'West',\n",
       " 'West',\n",
       " 'Northeast',\n",
       " 'Northeast',\n",
       " 'Midwest',\n",
       " 'West',\n",
       " 'West',\n",
       " 'South',\n",
       " 'South',\n",
       " 'West',\n",
       " 'Northeast',\n",
       " 'Northeast',\n",
       " 'South',\n",
       " 'South',\n",
       " 'South',\n",
       " 'South',\n",
       " 'South',\n",
       " 'South',\n",
       " 'South',\n",
       " 'South',\n",
       " 'South',\n",
       " 'South',\n",
       " 'South',\n",
       " 'South',\n",
       " 'South',\n",
       " 'Midwest',\n",
       " 'Midwest',\n",
       " 'Midwest',\n",
       " 'Midwest',\n",
       " 'South',\n",
       " 'South',\n",
       " 'South',\n",
       " 'West',\n",
       " 'West',\n",
       " 'West',\n",
       " 'West',\n",
       " 'West',\n",
       " 'West',\n",
       " 'West',\n",
       " 'West',\n",
       " 'West',\n",
       " 'South',\n",
       " 'South',\n",
       " 'South',\n",
       " 'South',\n",
       " 'South',\n",
       " 'South',\n",
       " 'South',\n",
       " 'South',\n",
       " 'South',\n",
       " 'South',\n",
       " 'South',\n",
       " 'South',\n",
       " 'South',\n",
       " 'South',\n",
       " 'South',\n",
       " 'South',\n",
       " 'South',\n",
       " 'South',\n",
       " 'South',\n",
       " 'Northeast',\n",
       " 'Northeast',\n",
       " 'Midwest',\n",
       " 'Midwest',\n",
       " 'Midwest',\n",
       " 'Midwest',\n",
       " 'Midwest',\n",
       " 'Midwest',\n",
       " 'Midwest',\n",
       " 'Midwest',\n",
       " 'Midwest',\n",
       " 'West',\n",
       " 'West',\n",
       " 'West',\n",
       " 'West',\n",
       " 'West',\n",
       " 'West',\n",
       " 'West',\n",
       " 'Northeast',\n",
       " 'Northeast',\n",
       " 'Northeast',\n",
       " 'Northeast',\n",
       " 'Northeast',\n",
       " 'Northeast',\n",
       " 'West',\n",
       " 'West',\n",
       " 'West',\n",
       " 'West',\n",
       " 'West',\n",
       " 'West',\n",
       " 'West',\n",
       " 'West',\n",
       " 'South',\n",
       " 'South',\n",
       " 'South',\n",
       " 'South',\n",
       " 'South',\n",
       " 'South',\n",
       " 'South',\n",
       " 'South',\n",
       " 'South',\n",
       " 'South',\n",
       " 'South',\n",
       " 'South',\n",
       " 'South',\n",
       " 'South',\n",
       " 'South',\n",
       " 'South',\n",
       " 'South',\n",
       " 'South',\n",
       " 'South',\n",
       " 'South',\n",
       " 'South',\n",
       " 'South',\n",
       " 'South',\n",
       " 'South',\n",
       " 'South',\n",
       " 'South',\n",
       " 'South',\n",
       " 'South',\n",
       " 'South',\n",
       " 'South',\n",
       " 'South',\n",
       " 'South',\n",
       " 'South',\n",
       " 'South',\n",
       " 'South',\n",
       " 'South',\n",
       " 'South',\n",
       " 'South',\n",
       " 'South',\n",
       " 'South',\n",
       " 'South',\n",
       " 'South',\n",
       " 'South',\n",
       " 'South',\n",
       " 'Northeast',\n",
       " 'Northeast',\n",
       " 'Northeast',\n",
       " 'Northeast',\n",
       " 'Northeast',\n",
       " 'Northeast',\n",
       " 'Midwest',\n",
       " 'Midwest',\n",
       " 'Midwest',\n",
       " 'West',\n",
       " 'South',\n",
       " 'Midwest',\n",
       " 'Midwest',\n",
       " 'Northeast',\n",
       " 'South',\n",
       " 'South',\n",
       " 'South',\n",
       " 'South',\n",
       " 'West',\n",
       " 'West',\n",
       " 'West',\n",
       " 'West',\n",
       " 'West',\n",
       " 'West',\n",
       " 'South',\n",
       " 'South',\n",
       " 'West',\n",
       " 'West',\n",
       " 'West',\n",
       " 'West',\n",
       " 'West',\n",
       " 'West',\n",
       " 'West',\n",
       " 'West',\n",
       " 'West',\n",
       " 'West',\n",
       " 'West',\n",
       " 'West',\n",
       " 'West',\n",
       " 'West',\n",
       " 'South',\n",
       " 'South',\n",
       " 'South',\n",
       " 'South',\n",
       " 'South',\n",
       " 'Northeast',\n",
       " 'Northeast',\n",
       " 'Northeast',\n",
       " 'Northeast',\n",
       " 'West',\n",
       " 'Midwest',\n",
       " 'Midwest',\n",
       " 'Midwest',\n",
       " 'Midwest',\n",
       " 'Midwest',\n",
       " 'Midwest',\n",
       " 'South',\n",
       " 'South',\n",
       " 'South',\n",
       " 'South',\n",
       " 'South',\n",
       " 'South',\n",
       " 'South',\n",
       " 'South',\n",
       " 'South',\n",
       " 'Northeast',\n",
       " 'Northeast',\n",
       " 'Northeast',\n",
       " 'Northeast',\n",
       " 'Northeast',\n",
       " 'Northeast',\n",
       " 'Northeast',\n",
       " 'Northeast',\n",
       " 'Northeast',\n",
       " 'Northeast',\n",
       " 'Northeast',\n",
       " 'Northeast',\n",
       " 'Northeast',\n",
       " 'Northeast',\n",
       " 'Northeast',\n",
       " 'Northeast',\n",
       " 'Northeast',\n",
       " 'Northeast',\n",
       " 'Northeast',\n",
       " 'Northeast',\n",
       " 'Northeast',\n",
       " 'Northeast',\n",
       " 'Northeast',\n",
       " 'Northeast',\n",
       " 'Northeast',\n",
       " 'Northeast',\n",
       " 'Northeast',\n",
       " 'Northeast',\n",
       " 'Northeast',\n",
       " 'Northeast',\n",
       " 'Northeast',\n",
       " 'Northeast',\n",
       " 'Northeast',\n",
       " 'Northeast',\n",
       " 'Northeast',\n",
       " 'Northeast',\n",
       " 'South',\n",
       " 'South',\n",
       " 'South',\n",
       " 'South',\n",
       " 'South',\n",
       " 'South',\n",
       " 'South',\n",
       " 'South',\n",
       " 'South',\n",
       " 'South',\n",
       " 'South',\n",
       " 'South',\n",
       " 'Midwest',\n",
       " 'West',\n",
       " 'West',\n",
       " 'West',\n",
       " 'West',\n",
       " 'West',\n",
       " 'West',\n",
       " 'Midwest',\n",
       " 'Midwest',\n",
       " 'Midwest',\n",
       " 'Midwest',\n",
       " 'Midwest',\n",
       " 'Midwest',\n",
       " 'Midwest',\n",
       " 'South',\n",
       " 'South',\n",
       " 'South',\n",
       " 'South',\n",
       " 'South',\n",
       " 'South',\n",
       " 'South',\n",
       " 'South',\n",
       " 'South',\n",
       " 'South',\n",
       " 'South',\n",
       " 'South',\n",
       " 'South',\n",
       " 'South',\n",
       " 'West',\n",
       " 'West',\n",
       " 'West',\n",
       " 'West',\n",
       " 'West',\n",
       " 'West',\n",
       " 'West',\n",
       " 'West',\n",
       " 'West',\n",
       " 'West',\n",
       " 'South',\n",
       " 'South',\n",
       " 'South',\n",
       " 'South',\n",
       " 'South',\n",
       " 'South',\n",
       " 'South',\n",
       " 'South',\n",
       " 'South',\n",
       " 'South',\n",
       " 'South',\n",
       " 'South',\n",
       " 'South',\n",
       " 'South',\n",
       " 'South',\n",
       " 'South',\n",
       " 'South',\n",
       " 'South',\n",
       " 'Northeast',\n",
       " 'Northeast',\n",
       " 'Northeast',\n",
       " 'Northeast',\n",
       " 'Northeast',\n",
       " 'Northeast',\n",
       " 'Northeast',\n",
       " 'Northeast',\n",
       " 'Northeast',\n",
       " 'Northeast',\n",
       " 'Northeast',\n",
       " 'West',\n",
       " 'West',\n",
       " 'West',\n",
       " 'West',\n",
       " 'West',\n",
       " 'West',\n",
       " 'West',\n",
       " 'West',\n",
       " 'West',\n",
       " 'West',\n",
       " 'West',\n",
       " 'West',\n",
       " 'West',\n",
       " 'West',\n",
       " 'West',\n",
       " 'West',\n",
       " 'West',\n",
       " 'West',\n",
       " 'West',\n",
       " 'West',\n",
       " 'West',\n",
       " 'West',\n",
       " 'West',\n",
       " 'West',\n",
       " 'West',\n",
       " 'West',\n",
       " 'West',\n",
       " 'West',\n",
       " 'West',\n",
       " 'West',\n",
       " 'West',\n",
       " 'West',\n",
       " 'West',\n",
       " 'West',\n",
       " 'West',\n",
       " 'West',\n",
       " 'West',\n",
       " 'West',\n",
       " 'West',\n",
       " 'West',\n",
       " 'West',\n",
       " 'West',\n",
       " 'West',\n",
       " 'West',\n",
       " 'West',\n",
       " 'West',\n",
       " ...]"
      ]
     },
     "execution_count": 141,
     "metadata": {},
     "output_type": "execute_result"
    }
   ],
   "source": [
    "region"
   ]
  },
  {
   "cell_type": "code",
   "execution_count": 142,
   "id": "65ce63f9",
   "metadata": {},
   "outputs": [],
   "source": [
    "df['region'] = region"
   ]
  },
  {
   "cell_type": "code",
   "execution_count": 143,
   "id": "36a5f442",
   "metadata": {},
   "outputs": [
    {
     "data": {
      "text/plain": [
       "South        482255\n",
       "West         423373\n",
       "Midwest      357709\n",
       "Northeast    270858\n",
       "Name: region, dtype: int64"
      ]
     },
     "execution_count": 143,
     "metadata": {},
     "output_type": "execute_result"
    }
   ],
   "source": [
    "# Checking code\n",
    "df['region'].value_counts(dropna = False)"
   ]
  },
  {
   "cell_type": "code",
   "execution_count": 144,
   "id": "902d4b9f",
   "metadata": {},
   "outputs": [],
   "source": [
    "# Creating crosstab of spending habits of different US regions\n",
    "crosstab = pd.crosstab(df['region'], df['spending_flag'], dropna = False)"
   ]
  },
  {
   "cell_type": "code",
   "execution_count": 145,
   "id": "0bce5023",
   "metadata": {},
   "outputs": [
    {
     "data": {
      "text/html": [
       "<div>\n",
       "<style scoped>\n",
       "    .dataframe tbody tr th:only-of-type {\n",
       "        vertical-align: middle;\n",
       "    }\n",
       "\n",
       "    .dataframe tbody tr th {\n",
       "        vertical-align: top;\n",
       "    }\n",
       "\n",
       "    .dataframe thead th {\n",
       "        text-align: right;\n",
       "    }\n",
       "</style>\n",
       "<table border=\"1\" class=\"dataframe\">\n",
       "  <thead>\n",
       "    <tr style=\"text-align: right;\">\n",
       "      <th>spending_flag</th>\n",
       "      <th>High spender</th>\n",
       "      <th>Low spender</th>\n",
       "    </tr>\n",
       "    <tr>\n",
       "      <th>region</th>\n",
       "      <th></th>\n",
       "      <th></th>\n",
       "    </tr>\n",
       "  </thead>\n",
       "  <tbody>\n",
       "    <tr>\n",
       "      <th>Midwest</th>\n",
       "      <td>327728</td>\n",
       "      <td>29981</td>\n",
       "    </tr>\n",
       "    <tr>\n",
       "      <th>Northeast</th>\n",
       "      <td>247842</td>\n",
       "      <td>23016</td>\n",
       "    </tr>\n",
       "    <tr>\n",
       "      <th>South</th>\n",
       "      <td>442705</td>\n",
       "      <td>39550</td>\n",
       "    </tr>\n",
       "    <tr>\n",
       "      <th>West</th>\n",
       "      <td>388431</td>\n",
       "      <td>34942</td>\n",
       "    </tr>\n",
       "  </tbody>\n",
       "</table>\n",
       "</div>"
      ],
      "text/plain": [
       "spending_flag  High spender  Low spender\n",
       "region                                  \n",
       "Midwest              327728        29981\n",
       "Northeast            247842        23016\n",
       "South                442705        39550\n",
       "West                 388431        34942"
      ]
     },
     "execution_count": 145,
     "metadata": {},
     "output_type": "execute_result"
    }
   ],
   "source": [
    "crosstab"
   ]
  },
  {
   "cell_type": "markdown",
   "id": "423ee71a",
   "metadata": {},
   "source": [
    "# 4 Creating a dataframe excluding customers with less than 5 orders\n",
    "\n"
   ]
  },
  {
   "cell_type": "code",
   "execution_count": 146,
   "id": "c719ed59",
   "metadata": {},
   "outputs": [],
   "source": [
    "# excluding customers with less than 5 order\n",
    "df2 = df[df['max_order'] > 5]"
   ]
  },
  {
   "cell_type": "markdown",
   "id": "96f6c9cf",
   "metadata": {},
   "source": [
    "# 5 Customer Profiling"
   ]
  },
  {
   "cell_type": "code",
   "execution_count": 147,
   "id": "8e5373d3",
   "metadata": {},
   "outputs": [],
   "source": [
    "# Creating Income brackets\n",
    "df.loc[df['income'] < 30000, 'income_status'] = 'Low Income'\n",
    "df.loc[(df['income'] <= 100000) & (df['income'] > 30000), 'income_status'] = 'Medium Income'\n",
    "df.loc[df['income'] >= 100000, 'income_status'] = 'High Income'"
   ]
  },
  {
   "cell_type": "code",
   "execution_count": 148,
   "id": "68fe1640",
   "metadata": {},
   "outputs": [],
   "source": [
    "# Creating Age brackets\n",
    "df.loc[df['Age'] < 18, 'age_status'] = 'Underage'\n",
    "df.loc[(df['Age'] <= 30) & (df['Age'] > 18), 'age_status'] = 'Young Adults'\n",
    "df.loc[df['Age'] > 30, 'age_status'] = 'Adults'"
   ]
  },
  {
   "cell_type": "code",
   "execution_count": 149,
   "id": "dcd034f2",
   "metadata": {},
   "outputs": [],
   "source": [
    "# Creating Price brackets\n",
    "df.loc[df['prices'] < 5, 'price_range'] = 'Low Price Range'\n",
    "df.loc[(df['prices'] <= 10) & (df['prices'] > 5), 'price_range'] = 'Medium Price Range'\n",
    "df.loc[df['prices'] > 10,'price_range'] = 'High Price Range' "
   ]
  },
  {
   "cell_type": "code",
   "execution_count": 154,
   "id": "735b7a57",
   "metadata": {},
   "outputs": [],
   "source": [
    "# Creating a flag for department_id\n",
    "df.loc[df['department_id'] == 1, 'products'] = 'Frozen'\n",
    "df.loc[df['department_id'] == 2, 'products'] = 'Other'\n",
    "df.loc[df['department_id'] == 3, 'products'] = 'Bakery'\n",
    "df.loc[df['department_id'] == 4, 'products'] = 'Produce'\n",
    "df.loc[df['department_id'] == 5, 'products'] = 'Alcohol'\n",
    "df.loc[df['department_id'] == 6, 'products'] = 'international'\n",
    "df.loc[df['department_id'] == 7, 'products'] = 'beverages'\n",
    "df.loc[df['department_id'] == 8, 'products'] = 'pets'\n",
    "df.loc[df['department_id'] == 9, 'products'] = 'dry goods pasta'\n",
    "df.loc[df['department_id'] == 10, 'products'] = 'bulk'\n",
    "df.loc[df['department_id'] == 11, 'products'] = 'personal care'\n",
    "df.loc[df['department_id'] == 12, 'products'] = 'meat seafood'\n",
    "df.loc[df['department_id'] == 13, 'products'] = 'pantry'\n",
    "df.loc[df['department_id'] == 14, 'products'] = 'breakfast'\n",
    "df.loc[df['department_id'] == 15, 'products'] = 'canned goods'\n",
    "df.loc[df['department_id'] == 16, 'products'] = 'dairy eggs'\n",
    "df.loc[df['department_id'] == 17, 'products'] = 'household'\n",
    "df.loc[df['department_id'] == 18, 'products'] = 'babies'\n",
    "df.loc[df['department_id'] == 19, 'products'] = 'snacks'\n",
    "df.loc[df['department_id'] == 20, 'products'] = 'missing'\n",
    "\n",
    "\n",
    "\n",
    "\n",
    "\n",
    "\n",
    "\n"
   ]
  },
  {
   "cell_type": "code",
   "execution_count": 156,
   "id": "7b90b9bb",
   "metadata": {},
   "outputs": [],
   "source": [
    "# Checking if there is a link between family status and types of items purchased\n",
    "crosstab_1 = pd.crosstab(df['products'], df['family_status'], dropna = False)"
   ]
  },
  {
   "cell_type": "code",
   "execution_count": 157,
   "id": "ef068aa6",
   "metadata": {},
   "outputs": [],
   "source": [
    "# Checking if there is a link between ages and types of items purchased\n",
    "crosstab_2 = pd.crosstab(df['products'], df['age_status'], dropna = False)\n"
   ]
  },
  {
   "cell_type": "code",
   "execution_count": 82,
   "id": "e66536dd",
   "metadata": {},
   "outputs": [],
   "source": [
    "# Checking for link between age and income\n",
    "crosstab_3 = pd.crosstab(df['age_status'], df['income_status'], dropna = False)"
   ]
  },
  {
   "cell_type": "code",
   "execution_count": 83,
   "id": "1b2ff4ce",
   "metadata": {},
   "outputs": [],
   "source": [
    "# Checking for link between family status and prices\n",
    "crosstab_4 = pd.crosstab(df['family_status'], df['price_range'], dropna = False)\n"
   ]
  },
  {
   "cell_type": "code",
   "execution_count": 84,
   "id": "311775ee",
   "metadata": {},
   "outputs": [],
   "source": [
    "# Checking for link between family status and income\n",
    "crosstab_5 = pd.crosstab(df['family_status'], df['income_status'], dropna = False)\n",
    "\n"
   ]
  },
  {
   "cell_type": "code",
   "execution_count": 85,
   "id": "378404d1",
   "metadata": {},
   "outputs": [],
   "source": [
    "# What time do people spend the most?\n",
    "crosstab_6 = pd.crosstab(df['time_orders'], df['spending_flag'], dropna = False)\n"
   ]
  },
  {
   "cell_type": "code",
   "execution_count": 86,
   "id": "6496ce14",
   "metadata": {},
   "outputs": [],
   "source": [
    "# Checking for link between age order frequency\n",
    "crosstab_7 = pd.crosstab(df['age_status'], df['order_frequency_flag'], dropna = False)\n"
   ]
  },
  {
   "cell_type": "markdown",
   "id": "1b8b70ac",
   "metadata": {},
   "source": [
    "# 6 Visualizations"
   ]
  },
  {
   "cell_type": "code",
   "execution_count": 25,
   "id": "719d5c0a",
   "metadata": {
    "scrolled": true
   },
   "outputs": [
    {
     "data": {
      "image/png": "[encoded data removed]",
      "text/plain": [
       "<Figure size 432x288 with 1 Axes>"
      ]
     },
     "metadata": {
      "needs_background": "light"
     },
     "output_type": "display_data"
    }
   ],
   "source": [
    "# Visualization for Crosstab 1\n",
    "bar_1 = crosstab_1.plot.bar(stacked = True)"
   ]
  },
  {
   "cell_type": "code",
   "execution_count": 26,
   "id": "f0c9994b",
   "metadata": {
    "scrolled": false
   },
   "outputs": [
    {
     "data": {
      "image/png": "[encoded data removed]",
      "text/plain": [
       "<Figure size 432x288 with 1 Axes>"
      ]
     },
     "metadata": {
      "needs_background": "light"
     },
     "output_type": "display_data"
    }
   ],
   "source": [
    "# Visualization for Crosstab 2\n",
    "bar_2 = crosstab_2.plot.bar(stacked = True)"
   ]
  },
  {
   "cell_type": "code",
   "execution_count": 27,
   "id": "84f59431",
   "metadata": {
    "scrolled": true
   },
   "outputs": [
    {
     "data": {
      "image/png": "[encoded data removed]",
      "text/plain": [
       "<Figure size 432x288 with 1 Axes>"
      ]
     },
     "metadata": {
      "needs_background": "light"
     },
     "output_type": "display_data"
    }
   ],
   "source": [
    "# Visualization for Crosstab 3\n",
    "bar_3 = crosstab_3.plot.bar(stacked = True)"
   ]
  },
  {
   "cell_type": "code",
   "execution_count": 28,
   "id": "f7cea147",
   "metadata": {
    "scrolled": true
   },
   "outputs": [
    {
     "data": {
      "image/png": "[encoded data removed]",
      "text/plain": [
       "<Figure size 432x288 with 1 Axes>"
      ]
     },
     "metadata": {
      "needs_background": "light"
     },
     "output_type": "display_data"
    }
   ],
   "source": [
    "# Visualization for Crosstab 4\n",
    "bar_4 = crosstab_4.plot.bar(stacked = True)"
   ]
  },
  {
   "cell_type": "code",
   "execution_count": 29,
   "id": "270a06a7",
   "metadata": {
    "scrolled": true
   },
   "outputs": [
    {
     "data": {
      "image/png": "[encoded data removed]",
      "text/plain": [
       "<Figure size 432x288 with 1 Axes>"
      ]
     },
     "metadata": {
      "needs_background": "light"
     },
     "output_type": "display_data"
    }
   ],
   "source": [
    "# Visualization for Crosstab 5\n",
    "\n",
    "\n",
    "bar_5 = crosstab_5.plot.bar(stacked = True)"
   ]
  },
  {
   "cell_type": "code",
   "execution_count": 54,
   "id": "38b29b27",
   "metadata": {
    "scrolled": true
   },
   "outputs": [
    {
     "data": {
      "image/png": "[encoded data removed]",
      "text/plain": [
       "<Figure size 432x288 with 1 Axes>"
      ]
     },
     "metadata": {
      "needs_background": "light"
     },
     "output_type": "display_data"
    }
   ],
   "source": [
    "# Visualization for Crosstab 6\n",
    "\n",
    "\n",
    "bar_6 = crosstab_6.plot.bar(stacked = True)"
   ]
  },
  {
   "cell_type": "code",
   "execution_count": 31,
   "id": "6c168838",
   "metadata": {
    "scrolled": true
   },
   "outputs": [
    {
     "data": {
      "image/png": "[encoded data removed]",
      "text/plain": [
       "<Figure size 432x288 with 1 Axes>"
      ]
     },
     "metadata": {
      "needs_background": "light"
     },
     "output_type": "display_data"
    }
   ],
   "source": [
    "# Visualization for Crosstab 7\n",
    "\n",
    "bar_7 = crosstab_7.plot.bar(stacked = True)"
   ]
  },
  {
   "cell_type": "markdown",
   "id": "6e224a41",
   "metadata": {},
   "source": [
    "# 07 Exporting Visualizations"
   ]
  },
  {
   "cell_type": "code",
   "execution_count": 32,
   "id": "c0541381",
   "metadata": {},
   "outputs": [],
   "source": [
    "path = r'/Users/a/Career Foundry/Achievement 4/04 Analysis/01 Visualizations'"
   ]
  },
  {
   "cell_type": "code",
   "execution_count": 33,
   "id": "cf29aad6",
   "metadata": {
    "scrolled": true
   },
   "outputs": [
    {
     "data": {
      "text/plain": [
       "'/Users/a/Career Foundry/Achievement 4/04 Analysis/01 Visualizations'"
      ]
     },
     "execution_count": 33,
     "metadata": {},
     "output_type": "execute_result"
    }
   ],
   "source": [
    "path"
   ]
  },
  {
   "cell_type": "code",
   "execution_count": 34,
   "id": "d0229e6e",
   "metadata": {},
   "outputs": [],
   "source": [
    "bar_1.figure.savefig(os.path.join(path, 'bar_1.png'))"
   ]
  },
  {
   "cell_type": "code",
   "execution_count": 35,
   "id": "b5709570",
   "metadata": {},
   "outputs": [],
   "source": [
    "bar_2.figure.savefig(os.path.join(path, 'bar_2.png'))"
   ]
  },
  {
   "cell_type": "code",
   "execution_count": 36,
   "id": "04ef5438",
   "metadata": {},
   "outputs": [],
   "source": [
    "bar_3.figure.savefig(os.path.join(path, 'bar_3.png'))"
   ]
  },
  {
   "cell_type": "code",
   "execution_count": 37,
   "id": "a00e69c9",
   "metadata": {},
   "outputs": [],
   "source": [
    "bar_4.figure.savefig(os.path.join(path, 'bar_4.png'))"
   ]
  },
  {
   "cell_type": "code",
   "execution_count": 38,
   "id": "d658a4c0",
   "metadata": {},
   "outputs": [],
   "source": [
    "bar_5.figure.savefig(os.path.join(path, 'bar_5.png'))"
   ]
  },
  {
   "cell_type": "code",
   "execution_count": 39,
   "id": "c333ca04",
   "metadata": {},
   "outputs": [],
   "source": [
    "bar_6.figure.savefig(os.path.join(path, 'bar_6.png'))"
   ]
  },
  {
   "cell_type": "code",
   "execution_count": 40,
   "id": "356ac140",
   "metadata": {},
   "outputs": [],
   "source": [
    "bar_7.figure.savefig(os.path.join(path, 'bar_7.png'))"
   ]
  },
  {
   "cell_type": "markdown",
   "id": "f292dc60",
   "metadata": {},
   "source": [
    "# 08 Checking for patterns across regions and departments + Charts"
   ]
  },
  {
   "cell_type": "markdown",
   "id": "44ede525",
   "metadata": {},
   "source": [
    "checking for patterns across regions\n",
    "\n"
   ]
  },
  {
   "cell_type": "code",
   "execution_count": 41,
   "id": "e79c9fcd",
   "metadata": {},
   "outputs": [],
   "source": [
    "crosstab_8 = pd.crosstab(df['region'], df['age_status'], dropna = False)"
   ]
  },
  {
   "cell_type": "code",
   "execution_count": 42,
   "id": "bd91b1cc",
   "metadata": {},
   "outputs": [
    {
     "data": {
      "image/png": "[encoded data removed]",
      "text/plain": [
       "<Figure size 432x288 with 1 Axes>"
      ]
     },
     "metadata": {
      "needs_background": "light"
     },
     "output_type": "display_data"
    }
   ],
   "source": [
    "bar_8 = crosstab_8.plot.bar(stacked = True)"
   ]
  },
  {
   "cell_type": "code",
   "execution_count": 43,
   "id": "9fc6507c",
   "metadata": {},
   "outputs": [],
   "source": [
    "crosstab_9 = pd.crosstab(df['region'], df['income_status'], dropna = False)"
   ]
  },
  {
   "cell_type": "code",
   "execution_count": 44,
   "id": "cab9f132",
   "metadata": {
    "scrolled": true
   },
   "outputs": [
    {
     "data": {
      "image/png": "[encoded data removed]",
      "text/plain": [
       "<Figure size 432x288 with 1 Axes>"
      ]
     },
     "metadata": {
      "needs_background": "light"
     },
     "output_type": "display_data"
    }
   ],
   "source": [
    "bar_9 = crosstab_9.plot.bar(stacked = True)"
   ]
  },
  {
   "cell_type": "code",
   "execution_count": 25,
   "id": "257eb184",
   "metadata": {},
   "outputs": [],
   "source": [
    "crosstab_10 = pd.crosstab(df['region'], df['order_frequency_flag'], dropna = False)"
   ]
  },
  {
   "cell_type": "code",
   "execution_count": 46,
   "id": "1ea2d732",
   "metadata": {
    "scrolled": true
   },
   "outputs": [
    {
     "data": {
      "image/png": "[encoded data removed]",
      "text/plain": [
       "<Figure size 432x288 with 1 Axes>"
      ]
     },
     "metadata": {
      "needs_background": "light"
     },
     "output_type": "display_data"
    }
   ],
   "source": [
    "bar_10 = crosstab_10.plot.bar(stacked = True)"
   ]
  },
  {
   "cell_type": "markdown",
   "id": "2b494dd8",
   "metadata": {},
   "source": [
    "checking for patterns across different departments\n",
    "\n"
   ]
  },
  {
   "cell_type": "code",
   "execution_count": 47,
   "id": "46205955",
   "metadata": {},
   "outputs": [],
   "source": [
    "crosstab_11 = pd.crosstab(df['products'], df['income_status'], dropna = False)"
   ]
  },
  {
   "cell_type": "code",
   "execution_count": 48,
   "id": "473c6bf2",
   "metadata": {},
   "outputs": [
    {
     "data": {
      "image/png": "[encoded data removed]",
      "text/plain": [
       "<Figure size 432x288 with 1 Axes>"
      ]
     },
     "metadata": {
      "needs_background": "light"
     },
     "output_type": "display_data"
    }
   ],
   "source": [
    "bar_11 = crosstab_11.plot.bar(stacked = True)"
   ]
  },
  {
   "cell_type": "code",
   "execution_count": 186,
   "id": "92b21b72",
   "metadata": {},
   "outputs": [],
   "source": [
    "crosstab_12 = pd.crosstab(df['products'], df['age_status'], dropna = False)"
   ]
  },
  {
   "cell_type": "code",
   "execution_count": 187,
   "id": "bac1e448",
   "metadata": {},
   "outputs": [
    {
     "data": {
      "image/png": "[encoded data removed]",
      "text/plain": [
       "<Figure size 432x288 with 1 Axes>"
      ]
     },
     "metadata": {
      "needs_background": "light"
     },
     "output_type": "display_data"
    }
   ],
   "source": [
    "bar_12 = crosstab_12.plot.bar(stacked = True)"
   ]
  },
  {
   "cell_type": "code",
   "execution_count": 188,
   "id": "d725f722",
   "metadata": {},
   "outputs": [],
   "source": [
    "crosstab_13 = pd.crosstab(df['products'], df['order_frequency_flag'], dropna = False)"
   ]
  },
  {
   "cell_type": "code",
   "execution_count": 189,
   "id": "23c6d20a",
   "metadata": {
    "scrolled": false
   },
   "outputs": [
    {
     "data": {
      "image/png": "[encoded data removed]",
      "text/plain": [
       "<Figure size 432x288 with 1 Axes>"
      ]
     },
     "metadata": {
      "needs_background": "light"
     },
     "output_type": "display_data"
    }
   ],
   "source": [
    "bar_13 = crosstab_13.plot.bar(stacked = True)"
   ]
  },
  {
   "cell_type": "code",
   "execution_count": 26,
   "id": "1b21a27f",
   "metadata": {
    "scrolled": true
   },
   "outputs": [],
   "source": [
    "# What products are purchased the most in each region?\n",
    "crosstab_14 = pd.crosstab(df['products'], df['region'], dropna = False)"
   ]
  },
  {
   "cell_type": "code",
   "execution_count": 27,
   "id": "e6b98b5a",
   "metadata": {
    "scrolled": true
   },
   "outputs": [
    {
     "data": {
      "image/png": "[encoded data removed]",
      "text/plain": [
       "<Figure size 432x288 with 1 Axes>"
      ]
     },
     "metadata": {
      "needs_background": "light"
     },
     "output_type": "display_data"
    }
   ],
   "source": [
    "bar_14 = crosstab_14.plot.bar(stacked = True)"
   ]
  },
  {
   "cell_type": "code",
   "execution_count": 92,
   "id": "6426ae22",
   "metadata": {},
   "outputs": [],
   "source": [
    "# Grouping products by price range\n",
    "crosstab_15 = pd.crosstab(df['products'], df['price_range'], dropna = False)"
   ]
  },
  {
   "cell_type": "code",
   "execution_count": 93,
   "id": "0f610002",
   "metadata": {
    "scrolled": false
   },
   "outputs": [
    {
     "data": {
      "image/png": "[encoded data removed]",
      "text/plain": [
       "<Figure size 432x288 with 1 Axes>"
      ]
     },
     "metadata": {
      "needs_background": "light"
     },
     "output_type": "display_data"
    }
   ],
   "source": [
    "bar_15 = crosstab_15.plot.bar(stacked = True)"
   ]
  },
  {
   "cell_type": "code",
   "execution_count": 97,
   "id": "ca7ded9e",
   "metadata": {},
   "outputs": [],
   "source": [
    "# Are old are the most loyal customers?\n",
    "crosstab_16 = pd.crosstab(df['age_status'], df['loyalty_flag'], dropna = False)"
   ]
  },
  {
   "cell_type": "code",
   "execution_count": 98,
   "id": "9429c027",
   "metadata": {
    "scrolled": true
   },
   "outputs": [
    {
     "data": {
      "image/png": "[encoded data removed]",
      "text/plain": [
       "<Figure size 432x288 with 1 Axes>"
      ]
     },
     "metadata": {
      "needs_background": "light"
     },
     "output_type": "display_data"
    }
   ],
   "source": [
    "bar_16 = crosstab_16.plot.bar(stacked = True)"
   ]
  },
  {
   "cell_type": "code",
   "execution_count": 103,
   "id": "3178e80d",
   "metadata": {},
   "outputs": [],
   "source": [
    "#How much do loyal customers order?\n",
    "crosstab_17 = pd.crosstab(df['spending_flag'], df['loyalty_flag'], dropna = False)"
   ]
  },
  {
   "cell_type": "code",
   "execution_count": 104,
   "id": "693f3574",
   "metadata": {
    "scrolled": true
   },
   "outputs": [
    {
     "data": {
      "image/png": "[encoded data removed]",
      "text/plain": [
       "<Figure size 432x288 with 1 Axes>"
      ]
     },
     "metadata": {
      "needs_background": "light"
     },
     "output_type": "display_data"
    }
   ],
   "source": [
    "bar_17 = crosstab_17.plot.bar(stacked = True)"
   ]
  },
  {
   "cell_type": "code",
   "execution_count": 107,
   "id": "dc0495bb",
   "metadata": {},
   "outputs": [],
   "source": [
    "# What products to loyal customer order the most?\n",
    "crosstab_18 = pd.crosstab(df['products'], df['loyalty_flag'], dropna = False)"
   ]
  },
  {
   "cell_type": "code",
   "execution_count": 108,
   "id": "cd20608f",
   "metadata": {
    "scrolled": true
   },
   "outputs": [
    {
     "data": {
      "image/png": "[encoded data removed]",
      "text/plain": [
       "<Figure size 432x288 with 1 Axes>"
      ]
     },
     "metadata": {
      "needs_background": "light"
     },
     "output_type": "display_data"
    }
   ],
   "source": [
    "bar_18 = crosstab_18.plot.bar(stacked = True)"
   ]
  },
  {
   "cell_type": "markdown",
   "id": "0f1bd449",
   "metadata": {},
   "source": [
    "# 09 Exporting Visualizations"
   ]
  },
  {
   "cell_type": "code",
   "execution_count": 211,
   "id": "981e97d3",
   "metadata": {},
   "outputs": [],
   "source": [
    "path = r'/Users/a/Career Foundry/Achievement 4/04 Analysis/01 Visualizations'"
   ]
  },
  {
   "cell_type": "code",
   "execution_count": 212,
   "id": "6b21adb3",
   "metadata": {},
   "outputs": [
    {
     "data": {
      "text/plain": [
       "'/Users/a/Career Foundry/Achievement 4/04 Analysis/01 Visualizations'"
      ]
     },
     "execution_count": 212,
     "metadata": {},
     "output_type": "execute_result"
    }
   ],
   "source": [
    "path"
   ]
  },
  {
   "cell_type": "code",
   "execution_count": 213,
   "id": "c49ad01a",
   "metadata": {},
   "outputs": [],
   "source": [
    "bar_8.figure.savefig(os.path.join(path, 'bar_8.png'))"
   ]
  },
  {
   "cell_type": "code",
   "execution_count": 214,
   "id": "19599a67",
   "metadata": {},
   "outputs": [],
   "source": [
    "bar_9.figure.savefig(os.path.join(path, 'bar_9.png'))"
   ]
  },
  {
   "cell_type": "code",
   "execution_count": 215,
   "id": "9e7225d1",
   "metadata": {},
   "outputs": [],
   "source": [
    "bar_10.figure.savefig(os.path.join(path, 'bar_10.png'))"
   ]
  },
  {
   "cell_type": "code",
   "execution_count": 216,
   "id": "291f1293",
   "metadata": {},
   "outputs": [],
   "source": [
    "bar_11.figure.savefig(os.path.join(path, 'bar_11.png'))"
   ]
  },
  {
   "cell_type": "code",
   "execution_count": 217,
   "id": "fcdeec77",
   "metadata": {},
   "outputs": [],
   "source": [
    "bar_12.figure.savefig(os.path.join(path, 'bar_12.png'))"
   ]
  },
  {
   "cell_type": "code",
   "execution_count": 218,
   "id": "d39f558c",
   "metadata": {},
   "outputs": [],
   "source": [
    "bar_13.figure.savefig(os.path.join(path, 'bar_13.png'))"
   ]
  },
  {
   "cell_type": "code",
   "execution_count": 28,
   "id": "217fd7bd",
   "metadata": {},
   "outputs": [],
   "source": [
    "bar_14.figure.savefig(os.path.join(path, 'bar_14.png'))"
   ]
  },
  {
   "cell_type": "code",
   "execution_count": 94,
   "id": "31454647",
   "metadata": {},
   "outputs": [],
   "source": [
    "bar_15.figure.savefig(os.path.join(path, 'bar_15.png'))"
   ]
  },
  {
   "cell_type": "code",
   "execution_count": 99,
   "id": "5b2b11ff",
   "metadata": {},
   "outputs": [],
   "source": [
    "bar_16.figure.savefig(os.path.join(path, 'bar_16.png'))"
   ]
  },
  {
   "cell_type": "code",
   "execution_count": 105,
   "id": "4d9d382b",
   "metadata": {},
   "outputs": [],
   "source": [
    "bar_17.figure.savefig(os.path.join(path, 'bar_17.png'))"
   ]
  },
  {
   "cell_type": "markdown",
   "id": "d7d50601",
   "metadata": {},
   "source": [
    "# 10 Exporting Dataframe\n"
   ]
  },
  {
   "cell_type": "code",
   "execution_count": 95,
   "id": "afb56861",
   "metadata": {},
   "outputs": [],
   "source": [
    "path = r'/Users/a/Career Foundry/Achievement 4/02 Data/02 Prepared Data'"
   ]
  },
  {
   "cell_type": "code",
   "execution_count": 96,
   "id": "d397630b",
   "metadata": {},
   "outputs": [
    {
     "data": {
      "text/plain": [
       "'/Users/a/Career Foundry/Achievement 4/02 Data/02 Prepared Data'"
      ]
     },
     "execution_count": 96,
     "metadata": {},
     "output_type": "execute_result"
    }
   ],
   "source": [
    "path"
   ]
  },
  {
   "cell_type": "code",
   "execution_count": 31,
   "id": "2b4e40d4",
   "metadata": {
    "scrolled": true
   },
   "outputs": [],
   "source": [
    "df.to_csv(os.path.join(path,'Achievement 10.csv'))"
   ]
  }
 ],
 "metadata": {
  "kernelspec": {
   "display_name": "Python 3 (ipykernel)",
   "language": "python",
   "name": "python3"
  },
  "language_info": {
   "codemirror_mode": {
    "name": "ipython",
    "version": 3
   },
   "file_extension": ".py",
   "mimetype": "text/x-python",
   "name": "python",
   "nbconvert_exporter": "python",
   "pygments_lexer": "ipython3",
   "version": "3.9.7"
  }
 },
 "nbformat": 4,
 "nbformat_minor": 5
}
