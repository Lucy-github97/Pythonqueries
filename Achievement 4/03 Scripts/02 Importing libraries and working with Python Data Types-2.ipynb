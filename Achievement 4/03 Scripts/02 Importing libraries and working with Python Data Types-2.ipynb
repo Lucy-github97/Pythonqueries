{
 "cells": [
  {
   "cell_type": "markdown",
   "id": "40b541a2",
   "metadata": {},
   "source": [
    "# Content List"
   ]
  },
  {
   "cell_type": "markdown",
   "id": "e08833b5",
   "metadata": {},
   "source": [
    "01 Importing Libraries\n",
    "02 Working with Python Data Types"
   ]
  },
  {
   "cell_type": "markdown",
   "id": "29de05db",
   "metadata": {},
   "source": [
    "# 01. Importing Libraries"
   ]
  },
  {
   "cell_type": "code",
   "execution_count": 1,
   "id": "591fdb9a",
   "metadata": {},
   "outputs": [],
   "source": [
    "# Import libraries\n",
    "import pandas as pd\n",
    "import numpy as np\n",
    "import os\n"
   ]
  },
  {
   "cell_type": "markdown",
   "id": "87799200",
   "metadata": {},
   "source": [
    "# 02. Working with Python Data types"
   ]
  },
  {
   "cell_type": "markdown",
   "id": "4d4495da",
   "metadata": {},
   "source": [
    "Working with numerical variables"
   ]
  },
  {
   "cell_type": "code",
   "execution_count": 4,
   "id": "36f335de",
   "metadata": {},
   "outputs": [],
   "source": [
    "x = 50"
   ]
  },
  {
   "cell_type": "code",
   "execution_count": 5,
   "id": "7cebd1e7",
   "metadata": {
    "scrolled": true
   },
   "outputs": [
    {
     "data": {
      "text/plain": [
       "100"
      ]
     },
     "execution_count": 5,
     "metadata": {},
     "output_type": "execute_result"
    }
   ],
   "source": [
    "x + 50"
   ]
  },
  {
   "cell_type": "code",
   "execution_count": 7,
   "id": "c0eea5d7",
   "metadata": {},
   "outputs": [],
   "source": [
    "x = 99"
   ]
  },
  {
   "cell_type": "code",
   "execution_count": 8,
   "id": "4ebcefb2",
   "metadata": {},
   "outputs": [
    {
     "data": {
      "text/plain": [
       "100"
      ]
     },
     "execution_count": 8,
     "metadata": {},
     "output_type": "execute_result"
    }
   ],
   "source": [
    "x + 1"
   ]
  },
  {
   "cell_type": "code",
   "execution_count": 9,
   "id": "0d410c45",
   "metadata": {},
   "outputs": [],
   "source": [
    "x = 200"
   ]
  },
  {
   "cell_type": "code",
   "execution_count": 10,
   "id": "ff55cbcb",
   "metadata": {},
   "outputs": [
    {
     "data": {
      "text/plain": [
       "100"
      ]
     },
     "execution_count": 10,
     "metadata": {},
     "output_type": "execute_result"
    }
   ],
   "source": [
    "x - 100"
   ]
  },
  {
   "cell_type": "markdown",
   "id": "44309d51",
   "metadata": {},
   "source": [
    "Working with Floats"
   ]
  },
  {
   "cell_type": "code",
   "execution_count": 11,
   "id": "3174e8b9",
   "metadata": {},
   "outputs": [],
   "source": [
    "x = 45.19"
   ]
  },
  {
   "cell_type": "code",
   "execution_count": 12,
   "id": "b854e6c6",
   "metadata": {},
   "outputs": [],
   "source": [
    "y = 5.25"
   ]
  },
  {
   "cell_type": "code",
   "execution_count": 13,
   "id": "8be00ab1",
   "metadata": {},
   "outputs": [
    {
     "data": {
      "text/plain": [
       "8.607619047619048"
      ]
     },
     "execution_count": 13,
     "metadata": {},
     "output_type": "execute_result"
    }
   ],
   "source": [
    "x / y"
   ]
  },
  {
   "cell_type": "markdown",
   "id": "81a36da1",
   "metadata": {},
   "source": [
    "Working with strings"
   ]
  },
  {
   "cell_type": "code",
   "execution_count": 15,
   "id": "170aabab",
   "metadata": {},
   "outputs": [],
   "source": [
    "a = 'H'"
   ]
  },
  {
   "cell_type": "code",
   "execution_count": 10,
   "id": "187dcc98",
   "metadata": {},
   "outputs": [],
   "source": [
    "b = 'e'"
   ]
  },
  {
   "cell_type": "code",
   "execution_count": 11,
   "id": "186d63bf",
   "metadata": {},
   "outputs": [],
   "source": [
    "c = 'l'"
   ]
  },
  {
   "cell_type": "code",
   "execution_count": 12,
   "id": "e20b7e77",
   "metadata": {},
   "outputs": [],
   "source": [
    "d = 'l'"
   ]
  },
  {
   "cell_type": "code",
   "execution_count": 13,
   "id": "377837f5",
   "metadata": {},
   "outputs": [],
   "source": [
    "e = 'o'"
   ]
  },
  {
   "cell_type": "code",
   "execution_count": 17,
   "id": "fe44d1d6",
   "metadata": {},
   "outputs": [
    {
     "data": {
      "text/plain": [
       "'Hello'"
      ]
     },
     "execution_count": 17,
     "metadata": {},
     "output_type": "execute_result"
    }
   ],
   "source": [
    "a + b + c + d + e"
   ]
  },
  {
   "cell_type": "code",
   "execution_count": 4,
   "id": "37b37721",
   "metadata": {},
   "outputs": [],
   "source": [
    "a = 'Good Morning,'"
   ]
  },
  {
   "cell_type": "code",
   "execution_count": 2,
   "id": "e432217e",
   "metadata": {},
   "outputs": [],
   "source": [
    "b = 'How are you?'"
   ]
  },
  {
   "cell_type": "code",
   "execution_count": 5,
   "id": "45a23a22",
   "metadata": {},
   "outputs": [
    {
     "data": {
      "text/plain": [
       "'Good Morning,How are you?'"
      ]
     },
     "execution_count": 5,
     "metadata": {},
     "output_type": "execute_result"
    }
   ],
   "source": [
    "a + b"
   ]
  }
 ],
 "metadata": {
  "kernelspec": {
   "display_name": "Python 3 (ipykernel)",
   "language": "python",
   "name": "python3"
  },
  "language_info": {
   "codemirror_mode": {
    "name": "ipython",
    "version": 3
   },
   "file_extension": ".py",
   "mimetype": "text/x-python",
   "name": "python",
   "nbconvert_exporter": "python",
   "pygments_lexer": "ipython3",
   "version": "3.9.7"
  }
 },
 "nbformat": 4,
 "nbformat_minor": 5
}
