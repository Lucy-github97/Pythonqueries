{
 "cells": [
  {
   "cell_type": "markdown",
   "id": "6d39f68e",
   "metadata": {},
   "source": [
    "# Content List\n",
    "\n"
   ]
  },
  {
   "cell_type": "markdown",
   "id": "6f349e1f",
   "metadata": {},
   "source": [
    "01 Importing Libraries and Data\n",
    "02 Creating a bar chart\n",
    "03 Exporting a bar chart\n",
    "04 Creating Histogramm\n",
    "05 Scatterplot\n",
    "06 Sampling and Line Chart\n",
    "07 Directions Part 2\n",
    "\n",
    "\n"
   ]
  },
  {
   "cell_type": "markdown",
   "id": "60afab78",
   "metadata": {},
   "source": [
    "# 01 Importing Data and Libraries"
   ]
  },
  {
   "cell_type": "code",
   "execution_count": 36,
   "id": "c414599e",
   "metadata": {},
   "outputs": [],
   "source": [
    "# Importing libraries\n",
    "import pandas as pd\n",
    "import numpy as np\n",
    "import os\n",
    "import matplotlib.pyplot as plt\n",
    "import seaborn as sns\n",
    "import scipy"
   ]
  },
  {
   "cell_type": "code",
   "execution_count": 37,
   "id": "a521da5c",
   "metadata": {},
   "outputs": [],
   "source": [
    "path = r'/Users/a/Career Foundry/Achievement 4/02 Data/02 Prepared Data'"
   ]
  },
  {
   "cell_type": "code",
   "execution_count": 38,
   "id": "4057aec2",
   "metadata": {},
   "outputs": [
    {
     "data": {
      "text/plain": [
       "'/Users/a/Career Foundry/Achievement 4/02 Data/02 Prepared Data'"
      ]
     },
     "execution_count": 38,
     "metadata": {},
     "output_type": "execute_result"
    }
   ],
   "source": [
    "path"
   ]
  },
  {
   "cell_type": "code",
   "execution_count": 39,
   "id": "bc67679a",
   "metadata": {},
   "outputs": [],
   "source": [
    "df_ords_prods = pd.read_pickle(os.path.join(path, 'ords_prods_merge_grouped.pkl')) \n",
    "\n"
   ]
  },
  {
   "cell_type": "code",
   "execution_count": 40,
   "id": "198a5b1c",
   "metadata": {
    "scrolled": true
   },
   "outputs": [
    {
     "data": {
      "text/html": [
       "<div>\n",
       "<style scoped>\n",
       "    .dataframe tbody tr th:only-of-type {\n",
       "        vertical-align: middle;\n",
       "    }\n",
       "\n",
       "    .dataframe tbody tr th {\n",
       "        vertical-align: top;\n",
       "    }\n",
       "\n",
       "    .dataframe thead th {\n",
       "        text-align: right;\n",
       "    }\n",
       "</style>\n",
       "<table border=\"1\" class=\"dataframe\">\n",
       "  <thead>\n",
       "    <tr style=\"text-align: right;\">\n",
       "      <th></th>\n",
       "      <th>order_id</th>\n",
       "      <th>user_id</th>\n",
       "      <th>order_number</th>\n",
       "      <th>orders_day_of_week</th>\n",
       "      <th>time_orders</th>\n",
       "      <th>days_since_prior_order</th>\n",
       "      <th>product_id</th>\n",
       "      <th>add_to_cart_order</th>\n",
       "      <th>reordered</th>\n",
       "      <th>_merge</th>\n",
       "      <th>...</th>\n",
       "      <th>price_range_loc</th>\n",
       "      <th>busiest_day</th>\n",
       "      <th>busiest_days</th>\n",
       "      <th>busiest_period_of_day</th>\n",
       "      <th>max_order</th>\n",
       "      <th>loyalty_flag</th>\n",
       "      <th>spendings</th>\n",
       "      <th>spending_flag</th>\n",
       "      <th>order frequency</th>\n",
       "      <th>order_frequency_flag</th>\n",
       "    </tr>\n",
       "  </thead>\n",
       "  <tbody>\n",
       "    <tr>\n",
       "      <th>0</th>\n",
       "      <td>2398795</td>\n",
       "      <td>1.0</td>\n",
       "      <td>2.0</td>\n",
       "      <td>3.0</td>\n",
       "      <td>7.0</td>\n",
       "      <td>15.0</td>\n",
       "      <td>196.0</td>\n",
       "      <td>1.0</td>\n",
       "      <td>1.0</td>\n",
       "      <td>both</td>\n",
       "      <td>...</td>\n",
       "      <td>Mid-range product</td>\n",
       "      <td>regularly busy</td>\n",
       "      <td>Regularly busy</td>\n",
       "      <td>Fewest orders</td>\n",
       "      <td>10.0</td>\n",
       "      <td>New customer</td>\n",
       "      <td>14.0</td>\n",
       "      <td>High spender</td>\n",
       "      <td>30.0</td>\n",
       "      <td>Regular customer</td>\n",
       "    </tr>\n",
       "    <tr>\n",
       "      <th>1</th>\n",
       "      <td>473747</td>\n",
       "      <td>1.0</td>\n",
       "      <td>3.0</td>\n",
       "      <td>3.0</td>\n",
       "      <td>12.0</td>\n",
       "      <td>21.0</td>\n",
       "      <td>196.0</td>\n",
       "      <td>1.0</td>\n",
       "      <td>1.0</td>\n",
       "      <td>both</td>\n",
       "      <td>...</td>\n",
       "      <td>Mid-range product</td>\n",
       "      <td>regularly busy</td>\n",
       "      <td>Regularly busy</td>\n",
       "      <td>Fewest orders</td>\n",
       "      <td>10.0</td>\n",
       "      <td>New customer</td>\n",
       "      <td>14.0</td>\n",
       "      <td>High spender</td>\n",
       "      <td>30.0</td>\n",
       "      <td>Regular customer</td>\n",
       "    </tr>\n",
       "    <tr>\n",
       "      <th>2</th>\n",
       "      <td>2254736</td>\n",
       "      <td>1.0</td>\n",
       "      <td>4.0</td>\n",
       "      <td>4.0</td>\n",
       "      <td>7.0</td>\n",
       "      <td>29.0</td>\n",
       "      <td>196.0</td>\n",
       "      <td>1.0</td>\n",
       "      <td>1.0</td>\n",
       "      <td>both</td>\n",
       "      <td>...</td>\n",
       "      <td>Mid-range product</td>\n",
       "      <td>least busy</td>\n",
       "      <td>Regularly busy</td>\n",
       "      <td>Fewest orders</td>\n",
       "      <td>10.0</td>\n",
       "      <td>New customer</td>\n",
       "      <td>14.0</td>\n",
       "      <td>High spender</td>\n",
       "      <td>30.0</td>\n",
       "      <td>Regular customer</td>\n",
       "    </tr>\n",
       "    <tr>\n",
       "      <th>3</th>\n",
       "      <td>431534</td>\n",
       "      <td>1.0</td>\n",
       "      <td>5.0</td>\n",
       "      <td>4.0</td>\n",
       "      <td>15.0</td>\n",
       "      <td>28.0</td>\n",
       "      <td>196.0</td>\n",
       "      <td>1.0</td>\n",
       "      <td>1.0</td>\n",
       "      <td>both</td>\n",
       "      <td>...</td>\n",
       "      <td>Mid-range product</td>\n",
       "      <td>least busy</td>\n",
       "      <td>Regularly busy</td>\n",
       "      <td>Fewest orders</td>\n",
       "      <td>10.0</td>\n",
       "      <td>New customer</td>\n",
       "      <td>14.0</td>\n",
       "      <td>High spender</td>\n",
       "      <td>30.0</td>\n",
       "      <td>Regular customer</td>\n",
       "    </tr>\n",
       "    <tr>\n",
       "      <th>4</th>\n",
       "      <td>3367565</td>\n",
       "      <td>1.0</td>\n",
       "      <td>6.0</td>\n",
       "      <td>2.0</td>\n",
       "      <td>7.0</td>\n",
       "      <td>19.0</td>\n",
       "      <td>196.0</td>\n",
       "      <td>1.0</td>\n",
       "      <td>1.0</td>\n",
       "      <td>both</td>\n",
       "      <td>...</td>\n",
       "      <td>Mid-range product</td>\n",
       "      <td>regularly busy</td>\n",
       "      <td>Regularly busy</td>\n",
       "      <td>Fewest orders</td>\n",
       "      <td>10.0</td>\n",
       "      <td>New customer</td>\n",
       "      <td>14.0</td>\n",
       "      <td>High spender</td>\n",
       "      <td>30.0</td>\n",
       "      <td>Regular customer</td>\n",
       "    </tr>\n",
       "  </tbody>\n",
       "</table>\n",
       "<p>5 rows × 24 columns</p>\n",
       "</div>"
      ],
      "text/plain": [
       "   order_id  user_id  order_number  orders_day_of_week  time_orders  \\\n",
       "0   2398795      1.0           2.0                 3.0          7.0   \n",
       "1    473747      1.0           3.0                 3.0         12.0   \n",
       "2   2254736      1.0           4.0                 4.0          7.0   \n",
       "3    431534      1.0           5.0                 4.0         15.0   \n",
       "4   3367565      1.0           6.0                 2.0          7.0   \n",
       "\n",
       "   days_since_prior_order  product_id  add_to_cart_order  reordered _merge  \\\n",
       "0                    15.0       196.0                1.0        1.0   both   \n",
       "1                    21.0       196.0                1.0        1.0   both   \n",
       "2                    29.0       196.0                1.0        1.0   both   \n",
       "3                    28.0       196.0                1.0        1.0   both   \n",
       "4                    19.0       196.0                1.0        1.0   both   \n",
       "\n",
       "   ...    price_range_loc     busiest_day    busiest_days  \\\n",
       "0  ...  Mid-range product  regularly busy  Regularly busy   \n",
       "1  ...  Mid-range product  regularly busy  Regularly busy   \n",
       "2  ...  Mid-range product      least busy  Regularly busy   \n",
       "3  ...  Mid-range product      least busy  Regularly busy   \n",
       "4  ...  Mid-range product  regularly busy  Regularly busy   \n",
       "\n",
       "   busiest_period_of_day max_order  loyalty_flag spendings spending_flag  \\\n",
       "0          Fewest orders      10.0  New customer      14.0  High spender   \n",
       "1          Fewest orders      10.0  New customer      14.0  High spender   \n",
       "2          Fewest orders      10.0  New customer      14.0  High spender   \n",
       "3          Fewest orders      10.0  New customer      14.0  High spender   \n",
       "4          Fewest orders      10.0  New customer      14.0  High spender   \n",
       "\n",
       "   order frequency order_frequency_flag  \n",
       "0             30.0     Regular customer  \n",
       "1             30.0     Regular customer  \n",
       "2             30.0     Regular customer  \n",
       "3             30.0     Regular customer  \n",
       "4             30.0     Regular customer  \n",
       "\n",
       "[5 rows x 24 columns]"
      ]
     },
     "execution_count": 40,
     "metadata": {},
     "output_type": "execute_result"
    }
   ],
   "source": [
    "df_ords_prods.head()"
   ]
  },
  {
   "cell_type": "markdown",
   "id": "941335cb",
   "metadata": {},
   "source": [
    "# 02 Creating a Bar chart"
   ]
  },
  {
   "cell_type": "code",
   "execution_count": 7,
   "id": "0c9f5a42",
   "metadata": {},
   "outputs": [
    {
     "data": {
      "image/png": "[encoded data removed]",
      "text/plain": [
       "<Figure size 432x288 with 1 Axes>"
      ]
     },
     "metadata": {
      "needs_background": "light"
     },
     "output_type": "display_data"
    }
   ],
   "source": [
    "bar = df_ords_prods['orders_day_of_week'].value_counts().sort_index().plot.bar(color = ['red', 'blue', 'yellow', 'violet','grey', 'brown','green']) \n"
   ]
  },
  {
   "cell_type": "markdown",
   "id": "51966f92",
   "metadata": {},
   "source": [
    "# 03 Exporting Bar Chart"
   ]
  },
  {
   "cell_type": "code",
   "execution_count": 8,
   "id": "c9d7bcf6",
   "metadata": {},
   "outputs": [],
   "source": [
    "path = r'/Users/a/Career Foundry/Achievement 4/04 Analysis/01 Visualizations'"
   ]
  },
  {
   "cell_type": "code",
   "execution_count": 9,
   "id": "7f487b94",
   "metadata": {},
   "outputs": [
    {
     "data": {
      "text/plain": [
       "'/Users/a/Career Foundry/Achievement 4/04 Analysis/01 Visualizations'"
      ]
     },
     "execution_count": 9,
     "metadata": {},
     "output_type": "execute_result"
    }
   ],
   "source": [
    "path"
   ]
  },
  {
   "cell_type": "code",
   "execution_count": 10,
   "id": "a649069f",
   "metadata": {},
   "outputs": [],
   "source": [
    "bar.figure.savefig(os.path.join(path, 'bar_orders_dow.png'))\n"
   ]
  },
  {
   "cell_type": "markdown",
   "id": "c2f54e54",
   "metadata": {},
   "source": [
    "# 04 Creating Histogramm"
   ]
  },
  {
   "cell_type": "code",
   "execution_count": 11,
   "id": "93c2e963",
   "metadata": {
    "scrolled": true
   },
   "outputs": [
    {
     "data": {
      "text/plain": [
       "<AxesSubplot:ylabel='Frequency'>"
      ]
     },
     "execution_count": 11,
     "metadata": {},
     "output_type": "execute_result"
    },
    {
     "data": {
      "image/png": "[encoded data removed]",
      "text/plain": [
       "<Figure size 432x288 with 1 Axes>"
      ]
     },
     "metadata": {
      "needs_background": "light"
     },
     "output_type": "display_data"
    }
   ],
   "source": [
    "df_ords_prods['prices'].plot.hist(bins = 25)\n"
   ]
  },
  {
   "cell_type": "code",
   "execution_count": 30,
   "id": "9fb9eb7d",
   "metadata": {},
   "outputs": [
    {
     "data": {
      "text/plain": [
       "<Figure size 432x288 with 0 Axes>"
      ]
     },
     "metadata": {},
     "output_type": "display_data"
    }
   ],
   "source": [
    "# Exporting the Histogramm\n",
    "plt.savefig(os.path.join(path,'hist_.png'))"
   ]
  },
  {
   "cell_type": "markdown",
   "id": "e736f5fb",
   "metadata": {},
   "source": [
    "# 05 Scatterplot"
   ]
  },
  {
   "cell_type": "code",
   "execution_count": 17,
   "id": "730db923",
   "metadata": {},
   "outputs": [
    {
     "data": {
      "text/plain": [
       "<AxesSubplot:xlabel='prices', ylabel='prices'>"
      ]
     },
     "execution_count": 17,
     "metadata": {},
     "output_type": "execute_result"
    },
    {
     "data": {
      "image/png": "[encoded data removed]",
      "text/plain": [
       "<Figure size 432x288 with 1 Axes>"
      ]
     },
     "metadata": {
      "needs_background": "light"
     },
     "output_type": "display_data"
    }
   ],
   "source": [
    "sns.scatterplot(x = 'prices', y = 'prices',data = df_ords_prods)\n"
   ]
  },
  {
   "cell_type": "code",
   "execution_count": 20,
   "id": "60ad0baa",
   "metadata": {},
   "outputs": [
    {
     "data": {
      "text/html": [
       "<div>\n",
       "<style scoped>\n",
       "    .dataframe tbody tr th:only-of-type {\n",
       "        vertical-align: middle;\n",
       "    }\n",
       "\n",
       "    .dataframe tbody tr th {\n",
       "        vertical-align: top;\n",
       "    }\n",
       "\n",
       "    .dataframe thead th {\n",
       "        text-align: right;\n",
       "    }\n",
       "</style>\n",
       "<table border=\"1\" class=\"dataframe\">\n",
       "  <thead>\n",
       "    <tr style=\"text-align: right;\">\n",
       "      <th></th>\n",
       "      <th>order_id</th>\n",
       "      <th>user_id</th>\n",
       "      <th>order_number</th>\n",
       "      <th>orders_day_of_week</th>\n",
       "      <th>time_orders</th>\n",
       "      <th>days_since_prior_order</th>\n",
       "      <th>product_id</th>\n",
       "      <th>add_to_cart_order</th>\n",
       "      <th>reordered</th>\n",
       "      <th>_merge</th>\n",
       "      <th>...</th>\n",
       "      <th>slowest_days</th>\n",
       "      <th>most orders</th>\n",
       "      <th>most_orders</th>\n",
       "      <th>busiest_period_of_day</th>\n",
       "      <th>max_order</th>\n",
       "      <th>loyalty_flag</th>\n",
       "      <th>spendings</th>\n",
       "      <th>spending_flag</th>\n",
       "      <th>order frequency</th>\n",
       "      <th>order_frequency_flag</th>\n",
       "    </tr>\n",
       "  </thead>\n",
       "  <tbody>\n",
       "  </tbody>\n",
       "</table>\n",
       "<p>0 rows × 27 columns</p>\n",
       "</div>"
      ],
      "text/plain": [
       "Empty DataFrame\n",
       "Columns: [order_id, user_id, order_number, orders_day_of_week, time_orders, days_since_prior_order, product_id, add_to_cart_order, reordered, _merge, product_name, aisle_id, department_id, prices, price_range_loc, busiest_day, busiest_days, slowest_days, most orders, most_orders, busiest_period_of_day, max_order, loyalty_flag, spendings, spending_flag, order frequency, order_frequency_flag]\n",
       "Index: []\n",
       "\n",
       "[0 rows x 27 columns]"
      ]
     },
     "execution_count": 20,
     "metadata": {},
     "output_type": "execute_result"
    }
   ],
   "source": [
    "df_ords_prods.loc[df_ords_prods['prices'] > 100]\n"
   ]
  },
  {
   "cell_type": "markdown",
   "id": "b1dc3d74",
   "metadata": {},
   "source": [
    "There are no outliers"
   ]
  },
  {
   "cell_type": "markdown",
   "id": "fe70d15f",
   "metadata": {},
   "source": [
    "# 06 Sampling and Line Chart"
   ]
  },
  {
   "cell_type": "code",
   "execution_count": 13,
   "id": "109f5bc7",
   "metadata": {},
   "outputs": [],
   "source": [
    "# Creating a sample and a list holding True/False Values \n",
    "\n",
    "np.random.seed(4)\n",
    "dev = np.random.rand(len(df_ords_prods)) <= 0.7"
   ]
  },
  {
   "cell_type": "code",
   "execution_count": 14,
   "id": "07e46a1a",
   "metadata": {},
   "outputs": [
    {
     "data": {
      "text/plain": [
       "array([False,  True, False, ..., False,  True,  True])"
      ]
     },
     "execution_count": 14,
     "metadata": {},
     "output_type": "execute_result"
    }
   ],
   "source": [
    "dev"
   ]
  },
  {
   "cell_type": "code",
   "execution_count": 15,
   "id": "e5196402",
   "metadata": {},
   "outputs": [
    {
     "data": {
      "text/plain": [
       "array([0.13872182, 0.78981481, 0.63018953, 0.97963446, 0.85654182,\n",
       "       0.23661072, 0.50730671, 0.39895173, 0.54588158, 0.70580615])"
      ]
     },
     "execution_count": 15,
     "metadata": {},
     "output_type": "execute_result"
    }
   ],
   "source": [
    "np.random.rand(10)"
   ]
  },
  {
   "cell_type": "code",
   "execution_count": 16,
   "id": "0289d629",
   "metadata": {},
   "outputs": [],
   "source": [
    "# Store 70% of the sample in the dataframe big\n",
    "big = df_ords_prods[dev]"
   ]
  },
  {
   "cell_type": "code",
   "execution_count": 18,
   "id": "2f04cfd5",
   "metadata": {},
   "outputs": [],
   "source": [
    "# Store 30% of the sample in the dataframe small\n",
    "\n",
    "\n",
    "small = df_ords_prods[~dev]"
   ]
  },
  {
   "cell_type": "code",
   "execution_count": 19,
   "id": "0a567e6e",
   "metadata": {},
   "outputs": [
    {
     "data": {
      "text/plain": [
       "1629314"
      ]
     },
     "execution_count": 19,
     "metadata": {},
     "output_type": "execute_result"
    }
   ],
   "source": [
    "# Checking results\n",
    "\n",
    "len(df_ords_prods)"
   ]
  },
  {
   "cell_type": "code",
   "execution_count": 20,
   "id": "63c7bdcb",
   "metadata": {},
   "outputs": [
    {
     "data": {
      "text/plain": [
       "1629314"
      ]
     },
     "execution_count": 20,
     "metadata": {},
     "output_type": "execute_result"
    }
   ],
   "source": [
    "len(big) + len(small)"
   ]
  },
  {
   "cell_type": "code",
   "execution_count": 21,
   "id": "477a13ad",
   "metadata": {},
   "outputs": [
    {
     "data": {
      "image/png": "[encoded data removed]",
      "text/plain": [
       "<Figure size 432x288 with 1 Axes>"
      ]
     },
     "metadata": {
      "needs_background": "light"
     },
     "output_type": "display_data"
    }
   ],
   "source": [
    "# Creating Line Chart\n",
    "\n",
    "line = sns.lineplot(data = df_ords_prods, x = 'orders_day_of_week', y = 'prices')"
   ]
  },
  {
   "cell_type": "markdown",
   "id": "9c7ac2fb",
   "metadata": {},
   "source": [
    "# 07 Directions Part 2"
   ]
  },
  {
   "cell_type": "code",
   "execution_count": 53,
   "id": "ba730b3e",
   "metadata": {},
   "outputs": [],
   "source": [
    "# Importing dataframe with customers data\n",
    "path = r'/Users/a/Career Foundry/Achievement 4/02 Data/02 Prepared Data'"
   ]
  },
  {
   "cell_type": "code",
   "execution_count": 54,
   "id": "8c1c6e1a",
   "metadata": {},
   "outputs": [
    {
     "data": {
      "text/plain": [
       "'/Users/a/Career Foundry/Achievement 4/02 Data/02 Prepared Data'"
      ]
     },
     "execution_count": 54,
     "metadata": {},
     "output_type": "execute_result"
    }
   ],
   "source": [
    "path"
   ]
  },
  {
   "cell_type": "code",
   "execution_count": 89,
   "id": "2a39db36",
   "metadata": {},
   "outputs": [],
   "source": [
    "df_final_merged = pd.read_pickle(os.path.join(path, 'df_final_merged.pkl')) \n",
    "\n"
   ]
  },
  {
   "cell_type": "code",
   "execution_count": 91,
   "id": "f02ec0d4",
   "metadata": {
    "scrolled": false
   },
   "outputs": [
    {
     "data": {
      "text/html": [
       "<div>\n",
       "<style scoped>\n",
       "    .dataframe tbody tr th:only-of-type {\n",
       "        vertical-align: middle;\n",
       "    }\n",
       "\n",
       "    .dataframe tbody tr th {\n",
       "        vertical-align: top;\n",
       "    }\n",
       "\n",
       "    .dataframe thead th {\n",
       "        text-align: right;\n",
       "    }\n",
       "</style>\n",
       "<table border=\"1\" class=\"dataframe\">\n",
       "  <thead>\n",
       "    <tr style=\"text-align: right;\">\n",
       "      <th></th>\n",
       "      <th>user_id</th>\n",
       "      <th>First Name</th>\n",
       "      <th>surname</th>\n",
       "      <th>Gender</th>\n",
       "      <th>state</th>\n",
       "      <th>Age</th>\n",
       "      <th>family_status</th>\n",
       "      <th>income</th>\n",
       "      <th>order_id</th>\n",
       "      <th>order_number</th>\n",
       "      <th>...</th>\n",
       "      <th>slowest_days</th>\n",
       "      <th>most orders</th>\n",
       "      <th>most_orders</th>\n",
       "      <th>busiest_period_of_day</th>\n",
       "      <th>max_order</th>\n",
       "      <th>loyalty_flag</th>\n",
       "      <th>spendings</th>\n",
       "      <th>spending_flag</th>\n",
       "      <th>order frequency</th>\n",
       "      <th>order_frequency_flag</th>\n",
       "    </tr>\n",
       "  </thead>\n",
       "  <tbody>\n",
       "    <tr>\n",
       "      <th>0</th>\n",
       "      <td>26711</td>\n",
       "      <td>Deborah</td>\n",
       "      <td>Esquivel</td>\n",
       "      <td>Female</td>\n",
       "      <td>Missouri</td>\n",
       "      <td>48</td>\n",
       "      <td>married</td>\n",
       "      <td>165665</td>\n",
       "      <td>2543867</td>\n",
       "      <td>5.0</td>\n",
       "      <td>...</td>\n",
       "      <td>regularly busy</td>\n",
       "      <td>Fewest orders</td>\n",
       "      <td>Fewest orders</td>\n",
       "      <td>Fewest orders</td>\n",
       "      <td>8.0</td>\n",
       "      <td>New customer</td>\n",
       "      <td>12.6</td>\n",
       "      <td>High spender</td>\n",
       "      <td>30.0</td>\n",
       "      <td>Regular customer</td>\n",
       "    </tr>\n",
       "    <tr>\n",
       "      <th>1</th>\n",
       "      <td>26711</td>\n",
       "      <td>Deborah</td>\n",
       "      <td>Esquivel</td>\n",
       "      <td>Female</td>\n",
       "      <td>Missouri</td>\n",
       "      <td>48</td>\n",
       "      <td>married</td>\n",
       "      <td>165665</td>\n",
       "      <td>1285508</td>\n",
       "      <td>7.0</td>\n",
       "      <td>...</td>\n",
       "      <td>regularly busy</td>\n",
       "      <td>Fewest orders</td>\n",
       "      <td>Fewest orders</td>\n",
       "      <td>Fewest orders</td>\n",
       "      <td>8.0</td>\n",
       "      <td>New customer</td>\n",
       "      <td>12.6</td>\n",
       "      <td>High spender</td>\n",
       "      <td>30.0</td>\n",
       "      <td>Regular customer</td>\n",
       "    </tr>\n",
       "    <tr>\n",
       "      <th>2</th>\n",
       "      <td>26711</td>\n",
       "      <td>Deborah</td>\n",
       "      <td>Esquivel</td>\n",
       "      <td>Female</td>\n",
       "      <td>Missouri</td>\n",
       "      <td>48</td>\n",
       "      <td>married</td>\n",
       "      <td>165665</td>\n",
       "      <td>2578584</td>\n",
       "      <td>8.0</td>\n",
       "      <td>...</td>\n",
       "      <td>regularly busy</td>\n",
       "      <td>Fewest orders</td>\n",
       "      <td>Fewest orders</td>\n",
       "      <td>Fewest orders</td>\n",
       "      <td>8.0</td>\n",
       "      <td>New customer</td>\n",
       "      <td>12.6</td>\n",
       "      <td>High spender</td>\n",
       "      <td>30.0</td>\n",
       "      <td>Regular customer</td>\n",
       "    </tr>\n",
       "    <tr>\n",
       "      <th>3</th>\n",
       "      <td>26711</td>\n",
       "      <td>Deborah</td>\n",
       "      <td>Esquivel</td>\n",
       "      <td>Female</td>\n",
       "      <td>Missouri</td>\n",
       "      <td>48</td>\n",
       "      <td>married</td>\n",
       "      <td>165665</td>\n",
       "      <td>423547</td>\n",
       "      <td>2.0</td>\n",
       "      <td>...</td>\n",
       "      <td>regularly busy</td>\n",
       "      <td>Fewest orders</td>\n",
       "      <td>Fewest orders</td>\n",
       "      <td>Fewest orders</td>\n",
       "      <td>8.0</td>\n",
       "      <td>New customer</td>\n",
       "      <td>12.6</td>\n",
       "      <td>High spender</td>\n",
       "      <td>30.0</td>\n",
       "      <td>Regular customer</td>\n",
       "    </tr>\n",
       "    <tr>\n",
       "      <th>4</th>\n",
       "      <td>26711</td>\n",
       "      <td>Deborah</td>\n",
       "      <td>Esquivel</td>\n",
       "      <td>Female</td>\n",
       "      <td>Missouri</td>\n",
       "      <td>48</td>\n",
       "      <td>married</td>\n",
       "      <td>165665</td>\n",
       "      <td>2524893</td>\n",
       "      <td>3.0</td>\n",
       "      <td>...</td>\n",
       "      <td>regularly busy</td>\n",
       "      <td>Fewest orders</td>\n",
       "      <td>Fewest orders</td>\n",
       "      <td>Fewest orders</td>\n",
       "      <td>8.0</td>\n",
       "      <td>New customer</td>\n",
       "      <td>12.6</td>\n",
       "      <td>High spender</td>\n",
       "      <td>30.0</td>\n",
       "      <td>Regular customer</td>\n",
       "    </tr>\n",
       "  </tbody>\n",
       "</table>\n",
       "<p>5 rows × 34 columns</p>\n",
       "</div>"
      ],
      "text/plain": [
       "   user_id First Name   surname  Gender     state  Age family_status  income  \\\n",
       "0    26711    Deborah  Esquivel  Female  Missouri   48       married  165665   \n",
       "1    26711    Deborah  Esquivel  Female  Missouri   48       married  165665   \n",
       "2    26711    Deborah  Esquivel  Female  Missouri   48       married  165665   \n",
       "3    26711    Deborah  Esquivel  Female  Missouri   48       married  165665   \n",
       "4    26711    Deborah  Esquivel  Female  Missouri   48       married  165665   \n",
       "\n",
       "   order_id  order_number  ...    slowest_days    most orders    most_orders  \\\n",
       "0   2543867           5.0  ...  regularly busy  Fewest orders  Fewest orders   \n",
       "1   1285508           7.0  ...  regularly busy  Fewest orders  Fewest orders   \n",
       "2   2578584           8.0  ...  regularly busy  Fewest orders  Fewest orders   \n",
       "3    423547           2.0  ...  regularly busy  Fewest orders  Fewest orders   \n",
       "4   2524893           3.0  ...  regularly busy  Fewest orders  Fewest orders   \n",
       "\n",
       "   busiest_period_of_day  max_order  loyalty_flag spendings spending_flag  \\\n",
       "0          Fewest orders        8.0  New customer      12.6  High spender   \n",
       "1          Fewest orders        8.0  New customer      12.6  High spender   \n",
       "2          Fewest orders        8.0  New customer      12.6  High spender   \n",
       "3          Fewest orders        8.0  New customer      12.6  High spender   \n",
       "4          Fewest orders        8.0  New customer      12.6  High spender   \n",
       "\n",
       "   order frequency  order_frequency_flag  \n",
       "0             30.0      Regular customer  \n",
       "1             30.0      Regular customer  \n",
       "2             30.0      Regular customer  \n",
       "3             30.0      Regular customer  \n",
       "4             30.0      Regular customer  \n",
       "\n",
       "[5 rows x 34 columns]"
      ]
     },
     "execution_count": 91,
     "metadata": {},
     "output_type": "execute_result"
    }
   ],
   "source": [
    "df_final_merged.head() "
   ]
  },
  {
   "cell_type": "markdown",
   "id": "c4a44d93",
   "metadata": {},
   "source": [
    "You need to provide the Instacart senior stakeholders with descriptive findings about sales. Create a histogram of the “order_hour_of_day” column.\n",
    "In a markdown cell beneath your histogram, describe what the histogram demonstrates."
   ]
  },
  {
   "cell_type": "code",
   "execution_count": 114,
   "id": "d2aa64b7",
   "metadata": {
    "scrolled": true
   },
   "outputs": [
    {
     "data": {
      "image/png": "[encoded data removed]",
      "text/plain": [
       "<Figure size 432x288 with 1 Axes>"
      ]
     },
     "metadata": {
      "needs_background": "light"
     },
     "output_type": "display_data"
    }
   ],
   "source": [
    "hist = df_final_merged['time_orders'].plot.hist(bins = 35)\n"
   ]
  },
  {
   "cell_type": "markdown",
   "id": "7d411260",
   "metadata": {},
   "source": [
    "This histogram shows that the majority of orders are placed during the middle of the day, from 10 to 15 circa"
   ]
  },
  {
   "cell_type": "markdown",
   "id": "c7aeddef",
   "metadata": {},
   "source": [
    "The marketing team is curious about the distribution of orders among customers in terms of loyalty. Create a bar chart from the “loyalty_flag” column.\n"
   ]
  },
  {
   "cell_type": "code",
   "execution_count": 94,
   "id": "cda20829",
   "metadata": {},
   "outputs": [
    {
     "data": {
      "text/plain": [
       "<AxesSubplot:>"
      ]
     },
     "execution_count": 94,
     "metadata": {},
     "output_type": "execute_result"
    },
    {
     "data": {
      "image/png": "[encoded data removed]",
      "text/plain": [
       "<Figure size 432x288 with 1 Axes>"
      ]
     },
     "metadata": {
      "needs_background": "light"
     },
     "output_type": "display_data"
    }
   ],
   "source": [
    "df_final_merged['loyalty_flag'].value_counts().sort_index().plot.bar()\n"
   ]
  },
  {
   "cell_type": "markdown",
   "id": "77473798",
   "metadata": {},
   "source": [
    "Check whether there’s a difference in expenditure (the “prices” column) depending on the hour of the day. (Hint: To check this, you need to use an accurate sample for your line chart!)\n",
    "\n"
   ]
  },
  {
   "cell_type": "code",
   "execution_count": 95,
   "id": "1b0cea57",
   "metadata": {},
   "outputs": [],
   "source": [
    "# Creating a sample and a list holding True/False Values \n",
    "\n",
    "np.random.seed(4)\n",
    "dev = np.random.rand(len(df_final_merged)) <= 0.7"
   ]
  },
  {
   "cell_type": "code",
   "execution_count": 76,
   "id": "07d5842d",
   "metadata": {},
   "outputs": [
    {
     "data": {
      "text/plain": [
       "array([False,  True, False, ..., False,  True,  True])"
      ]
     },
     "execution_count": 76,
     "metadata": {},
     "output_type": "execute_result"
    }
   ],
   "source": [
    "dev"
   ]
  },
  {
   "cell_type": "code",
   "execution_count": 96,
   "id": "2ff74bbf",
   "metadata": {},
   "outputs": [],
   "source": [
    "# Store 70% of the sample in the dataframe big\n",
    "big = df_final_merged[dev]"
   ]
  },
  {
   "cell_type": "code",
   "execution_count": 97,
   "id": "d16874c6",
   "metadata": {},
   "outputs": [],
   "source": [
    "# Store 30% of the sample in the dataframe small\n",
    "\n",
    "\n",
    "small = df_final_merged[~dev]"
   ]
  },
  {
   "cell_type": "code",
   "execution_count": 98,
   "id": "1874d754",
   "metadata": {},
   "outputs": [
    {
     "data": {
      "text/plain": [
       "1534195"
      ]
     },
     "execution_count": 98,
     "metadata": {},
     "output_type": "execute_result"
    }
   ],
   "source": [
    "# Checking results\n",
    "\n",
    "len(df_final_merged)"
   ]
  },
  {
   "cell_type": "code",
   "execution_count": 99,
   "id": "838cffe6",
   "metadata": {},
   "outputs": [
    {
     "data": {
      "text/plain": [
       "1534195"
      ]
     },
     "execution_count": 99,
     "metadata": {},
     "output_type": "execute_result"
    }
   ],
   "source": [
    "len(big) + len(small)"
   ]
  },
  {
   "cell_type": "markdown",
   "id": "4760d24e",
   "metadata": {},
   "source": [
    "Now that you have information about customers, you need to conduct some exploratory analysis of customer demographics to inform the targeted marketing campaigns. First, determine whether there’s a connection between age and family status by creating a line chart exploring the connections between age and number of dependents:"
   ]
  },
  {
   "cell_type": "code",
   "execution_count": 102,
   "id": "81b70aa3",
   "metadata": {
    "scrolled": false
   },
   "outputs": [
    {
     "data": {
      "image/png": "[encoded data removed]",
      "text/plain": [
       "<Figure size 432x288 with 1 Axes>"
      ]
     },
     "metadata": {
      "needs_background": "light"
     },
     "output_type": "display_data"
    }
   ],
   "source": [
    "# Creating Line Chart\n",
    "\n",
    "line = sns.lineplot(data = df_final_merged, x = 'family_status', y = 'Age')"
   ]
  },
  {
   "cell_type": "markdown",
   "id": "6dbf5c3b",
   "metadata": {},
   "source": [
    "There is a conneciton between the variables Age and Family Status. Most customers of 20 years old tend to live with parents and siblinggs while older customers are either married, divorced or widowed"
   ]
  },
  {
   "cell_type": "markdown",
   "id": "d0104d40",
   "metadata": {},
   "source": [
    "You’ll also need to explore whether there’s a connection between age and spending power. To visualize this relationship, create a scatterplot using the sns.scatterplot() function."
   ]
  },
  {
   "cell_type": "code",
   "execution_count": 101,
   "id": "78e2093d",
   "metadata": {},
   "outputs": [
    {
     "data": {
      "text/plain": [
       "<AxesSubplot:xlabel='Age', ylabel='spendings'>"
      ]
     },
     "execution_count": 101,
     "metadata": {},
     "output_type": "execute_result"
    },
    {
     "data": {
      "image/png": "[encoded data removed]",
      "text/plain": [
       "<Figure size 432x288 with 1 Axes>"
      ]
     },
     "metadata": {
      "needs_background": "light"
     },
     "output_type": "display_data"
    }
   ],
   "source": [
    "sns.scatterplot(x = 'Age', y = 'spendings',data = df_final_merged)\n",
    "\n"
   ]
  },
  {
   "cell_type": "code",
   "execution_count": null,
   "id": "b08a3a87",
   "metadata": {},
   "outputs": [],
   "source": []
  }
 ],
 "metadata": {
  "kernelspec": {
   "display_name": "Python 3 (ipykernel)",
   "language": "python",
   "name": "python3"
  },
  "language_info": {
   "codemirror_mode": {
    "name": "ipython",
    "version": 3
   },
   "file_extension": ".py",
   "mimetype": "text/x-python",
   "name": "python",
   "nbconvert_exporter": "python",
   "pygments_lexer": "ipython3",
   "version": "3.9.7"
  }
 },
 "nbformat": 4,
 "nbformat_minor": 5
}
